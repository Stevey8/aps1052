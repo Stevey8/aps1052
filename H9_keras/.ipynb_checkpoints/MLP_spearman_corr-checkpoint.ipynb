{
 "cells": [
  {
   "cell_type": "code",
   "execution_count": 6,
   "metadata": {},
   "outputs": [],
   "source": [
    "import tensorflow as tf\n",
    "tf.compat.v1.logging.set_verbosity(tf.compat.v1.logging.ERROR)\n",
    "import tensorflow_probability as tfp #requires TensorFlow version >= 2.6\n",
    "import numpy as np\n",
    "from tensorflow.keras.layers import Dense\n",
    "from tensorflow.keras.models import Sequential\n",
    "from tensorflow.keras.optimizers import SGD\n",
    "import pandas as pd"
   ]
  },
  {
   "cell_type": "code",
   "execution_count": 2,
   "metadata": {},
   "outputs": [],
   "source": [
    "@tf.function\n",
    "def get_rank(y_pred):\n",
    "  rank = tf.argsort(tf.argsort(y_pred, axis=-1, direction=\"ASCENDING\"), axis=-1)+1 #+1 to get the rank starting in 1 instead of 0\n",
    "  return rank\n",
    "\n",
    "@tf.function\n",
    "def sp_rank(x, y):\n",
    "  cov = tfp.stats.covariance(x, y, sample_axis=0, event_axis=None)\n",
    "  sd_x = tfp.stats.stddev(x, sample_axis=0, keepdims=False, name=None)\n",
    "  sd_y = tfp.stats.stddev(y, sample_axis=0, keepdims=False, name=None)\n",
    "  return 1-cov/(sd_x*sd_y) #1- because we want to minimize loss\n",
    "\n",
    "@tf.function\n",
    "def spearman_correlation(y_true, y_pred):\n",
    "    #First we obtain the ranking of the predicted values\n",
    "    y_pred_rank = tf.map_fn(lambda x: get_rank(x), y_pred, dtype=tf.float32)\n",
    "    \n",
    "    #Spearman rank correlation between each pair of samples:\n",
    "    #Sample dim: (1, 8)\n",
    "    #Batch of samples dim: (None, 8) None=batch_size=64\n",
    "    #Output dim: (batch_size, ) = (64, )\n",
    "    sp = tf.map_fn(lambda x: sp_rank(x[0],x[1]), (y_true, y_pred_rank), dtype=tf.float32)\n",
    "    #Reduce to a single value\n",
    "    loss = tf.reduce_mean(sp)\n",
    "    return loss"
   ]
  },
  {
   "cell_type": "markdown",
   "metadata": {},
   "source": [
    "https://www.py4u.net/discuss/199027"
   ]
  }
 ],
 "metadata": {
  "kernelspec": {
   "display_name": "Python 3 (ipykernel)",
   "language": "python",
   "name": "python3"
  },
  "language_info": {
   "codemirror_mode": {
    "name": "ipython",
    "version": 3
   },
   "file_extension": ".py",
   "mimetype": "text/x-python",
   "name": "python",
   "nbconvert_exporter": "python",
   "pygments_lexer": "ipython3",
   "version": "3.8.12"
  }
 },
 "nbformat": 4,
 "nbformat_minor": 2
}
