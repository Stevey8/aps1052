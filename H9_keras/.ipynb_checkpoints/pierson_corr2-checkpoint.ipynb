{
 "cells": [
  {
   "cell_type": "markdown",
   "metadata": {},
   "source": [
    "https://colab.research.google.com/github/stoerr/machinelearning-tensorflow/blob/master/published/CorrelationLossTest.ipynb"
   ]
  },
  {
   "cell_type": "code",
   "execution_count": 1,
   "metadata": {},
   "outputs": [],
   "source": [
    "#%matplotlib inline\n",
    "from matplotlib import pyplot\n",
    "import pandas as pd\n",
    "import tensorflow as tf\n",
    "tf.compat.v1.logging.set_verbosity(tf.compat.v1.logging.ERROR)\n",
    "import numpy as np\n",
    "#from tensorflow.keras.layers import Dense\n",
    "#from tensorflow.keras.models import Sequential\n",
    "#from tensorflow.keras.optimizers import SGD\n",
    "#from scipy.stats import spearmanr\n",
    "#from scipy.stats import pearsonr\n",
    "import tensorflow.keras.backend as K\n",
    "#import altair as alt\n",
    "#from keras_hist_graph import plot_history"
   ]
  },
  {
   "cell_type": "code",
   "execution_count": 2,
   "metadata": {},
   "outputs": [],
   "source": [
    "#tf.enable_eager_execution()\n",
    "#%xmode Verbose\n",
    "#%xmode Context\n",
    "\n",
    "def t(a):\n",
    "  \"\"\"For testing: generate a float64 tensor from anything.\"\"\"\n",
    "  return tf.constant(a, dtype=tf.float64)"
   ]
  },
  {
   "cell_type": "code",
   "execution_count": 3,
   "metadata": {},
   "outputs": [
    {
     "name": "stdout",
     "output_type": "stream",
     "text": [
      "[2.]\n"
     ]
    }
   ],
   "source": [
    "def tmean(x, axis=-1):\n",
    "  \"\"\"Arithmetic mean of a tensor over some axis, default last.\"\"\"\n",
    "  x = tf.convert_to_tensor(x)\n",
    "  sum = tf.reduce_sum(x, axis=axis)\n",
    "  n = tf.cast(tf.shape(x)[axis], x.dtype)\n",
    "  return sum / n\n",
    "\n",
    "print(tmean(t([[1.0],[2.0],[3.0]]), axis=-2).numpy())"
   ]
  },
  {
   "cell_type": "code",
   "execution_count": 4,
   "metadata": {},
   "outputs": [
    {
     "name": "stdout",
     "output_type": "stream",
     "text": [
      "[0.5]\n",
      "[0.]\n",
      "[0.]\n"
     ]
    }
   ],
   "source": [
    "def correlationMetric(x, y, axis=-2):\n",
    "  \"\"\"Metric returning the Pearson correlation coefficient of two tensors over some axis, default -2.\"\"\"\n",
    "  x = tf.convert_to_tensor(x)\n",
    "  #y = math_ops.cast(y, x.dtype)\n",
    "  y = K.cast(y, x.dtype)\n",
    "  n = tf.cast(tf.shape(x)[axis], x.dtype)\n",
    "  xsum = tf.reduce_sum(x, axis=axis)\n",
    "  ysum = tf.reduce_sum(y, axis=axis)\n",
    "  xmean = xsum / n\n",
    "  ymean = ysum / n\n",
    "  xvar = tf.reduce_sum( tf.math.squared_difference(x, xmean), axis=axis)\n",
    "  yvar = tf.reduce_sum( tf.math.squared_difference(y, ymean), axis=axis)\n",
    "  cov = tf.reduce_sum( (x - xmean) * (y - ymean), axis=axis)\n",
    "  corr = cov / tf.sqrt(xvar * yvar)\n",
    "  return tf.constant(1.0, dtype=x.dtype) - corr\n",
    "\n",
    "print(correlationMetric(tf.constant([[0.0, 1.0, 2.0]]), tf.constant([[1.0, 3.0, 2.0]]), axis=-1).numpy())\n",
    "print(correlationMetric(tf.constant([[0.0, 2.0, 1.0]]), tf.constant([[1.0, 3.0, 2.0]]), axis=-1).numpy())\n",
    "print(correlationMetric(tf.constant([[0.0], [2.0], [1.0]]), tf.constant([[1.0], [3.0], [2.0]]), axis=-2).numpy())"
   ]
  },
  {
   "cell_type": "code",
   "execution_count": 5,
   "metadata": {},
   "outputs": [],
   "source": [
    "def correlationLoss(x,y, axis=-2):\n",
    "  \"\"\"Loss function that maximizes the pearson correlation coefficient between the predicted values and the labels,\n",
    "  while trying to have the same mean and variance\"\"\"\n",
    "  x = tf.convert_to_tensor(x)\n",
    "  #y = math_ops.cast(y, x.dtype)\n",
    "  y = K.cast(y, x.dtype)\n",
    "  n = tf.cast(tf.shape(x)[axis], x.dtype)\n",
    "  xsum = tf.reduce_sum(x, axis=axis)\n",
    "  ysum = tf.reduce_sum(y, axis=axis)\n",
    "  xmean = xsum / n\n",
    "  ymean = ysum / n\n",
    "  xsqsum = tf.reduce_sum( tf.math.squared_difference(x, xmean), axis=axis)\n",
    "  ysqsum = tf.reduce_sum( tf.math.squared_difference(y, ymean), axis=axis)\n",
    "  cov = tf.reduce_sum( (x - xmean) * (y - ymean), axis=axis)\n",
    "  corr = cov / tf.sqrt(xsqsum * ysqsum)\n",
    "  # absdif = tmean(tf.abs(x - y), axis=axis) / tf.sqrt(yvar)\n",
    "  sqdif = tf.reduce_sum(tf.math.squared_difference(x, y), axis=axis) / n / tf.sqrt(ysqsum / n)\n",
    "  # meandif = tf.abs(xmean - ymean) / tf.abs(ymean)\n",
    "  # vardif = tf.abs(xvar - yvar) / yvar\n",
    "  # return tf.convert_to_tensor( K.mean(tf.constant(1.0, dtype=x.dtype) - corr + (meandif * 0.01) + (vardif * 0.01)) , dtype=tf.float32 )\n",
    "  return tf.convert_to_tensor( K.mean(tf.constant(1.0, dtype=x.dtype) - corr + (0.01 * sqdif)) , dtype=tf.float32 )\n",
    "\n",
    "#t1,t2 = tf.constant([[0.0], [3.0], [2.0]]), tf.constant([[0.0], [1.0], [3.0]])\n",
    "#print(correlationLoss(t1,t2))\n",
    "#print(correlationMetric(t1,t2))\n",
    "#del t1,t2"
   ]
  },
  {
   "cell_type": "code",
   "execution_count": 6,
   "metadata": {},
   "outputs": [],
   "source": [
    "samples = 10240\n",
    "epochs = 100\n",
    "steps = 1024\n",
    "batchsize = 128\n",
    "validationsamples = samples // 10"
   ]
  },
  {
   "cell_type": "code",
   "execution_count": 7,
   "metadata": {},
   "outputs": [
    {
     "name": "stdout",
     "output_type": "stream",
     "text": [
      "(10240, 2) (10240, 2)\n"
     ]
    },
    {
     "data": {
      "text/html": [
       "<div>\n",
       "<style scoped>\n",
       "    .dataframe tbody tr th:only-of-type {\n",
       "        vertical-align: middle;\n",
       "    }\n",
       "\n",
       "    .dataframe tbody tr th {\n",
       "        vertical-align: top;\n",
       "    }\n",
       "\n",
       "    .dataframe thead th {\n",
       "        text-align: right;\n",
       "    }\n",
       "</style>\n",
       "<table border=\"1\" class=\"dataframe\">\n",
       "  <thead>\n",
       "    <tr style=\"text-align: right;\">\n",
       "      <th></th>\n",
       "      <th>x_d</th>\n",
       "      <th>r_d</th>\n",
       "      <th>y_g</th>\n",
       "      <th>z_g</th>\n",
       "    </tr>\n",
       "  </thead>\n",
       "  <tbody>\n",
       "    <tr>\n",
       "      <th>1293</th>\n",
       "      <td>0.718918</td>\n",
       "      <td>-0.624332</td>\n",
       "      <td>1.715866</td>\n",
       "      <td>2.532621</td>\n",
       "    </tr>\n",
       "    <tr>\n",
       "      <th>7294</th>\n",
       "      <td>1.774284</td>\n",
       "      <td>0.764191</td>\n",
       "      <td>4.135996</td>\n",
       "      <td>4.446592</td>\n",
       "    </tr>\n",
       "    <tr>\n",
       "      <th>908</th>\n",
       "      <td>0.454201</td>\n",
       "      <td>0.020053</td>\n",
       "      <td>1.248794</td>\n",
       "      <td>3.008010</td>\n",
       "    </tr>\n",
       "  </tbody>\n",
       "</table>\n",
       "</div>"
      ],
      "text/plain": [
       "           x_d       r_d       y_g       z_g\n",
       "1293  0.718918 -0.624332  1.715866  2.532621\n",
       "7294  1.774284  0.764191  4.135996  4.446592\n",
       "908   0.454201  0.020053  1.248794  3.008010"
      ]
     },
     "execution_count": 7,
     "metadata": {},
     "output_type": "execute_result"
    }
   ],
   "source": [
    "data = pd.DataFrame( np.random.randn(samples,2), columns=['x_d', 'r_d'] ).sample(frac=1.0)\n",
    "data['y_g'] = data.x_d * data.x_d + 1\n",
    "data.y_g = data.y_g + np.random.randn(samples) * ( np.cos(3*data.x_d) ) * 0.5\n",
    "data['z_g'] = data.x_d * data.r_d + 3\n",
    "data.z_g = data.z_g + np.random.randn(samples) * data.x_d * data.r_d * 0.1\n",
    "\n",
    "train_data = data.filter(regex='_d').to_numpy()\n",
    "train_labels = data.filter(regex='_g').to_numpy()\n",
    "print(train_data.shape, train_labels.shape)\n",
    "data.sample(3)"
   ]
  },
  {
   "cell_type": "code",
   "execution_count": 8,
   "metadata": {},
   "outputs": [],
   "source": [
    "traindataset = tf.data.Dataset.from_tensor_slices((train_data, train_labels))\n",
    "traindataset = traindataset.shuffle(samples)\n",
    "\n",
    "validationdataset = traindataset.take(validationsamples)\n",
    "traindataset = traindataset.skip(validationsamples)\n",
    "\n",
    "traindataset = traindataset.repeat().batch(batchsize, drop_remainder=True)\n",
    "validationdataset = validationdataset.repeat().batch(batchsize, drop_remainder=True)\n",
    "# traindataset.make_one_shot_iterator().get_next()\n",
    "# validationdataset.make_one_shot_iterator().get_next()"
   ]
  },
  {
   "cell_type": "code",
   "execution_count": 9,
   "metadata": {},
   "outputs": [
    {
     "name": "stdout",
     "output_type": "stream",
     "text": [
      "WARNING: AutoGraph could not transform <function correlationLoss at 0x00000245D2EDC0D0> and will run it as-is.\n",
      "Please report this to the TensorFlow team. When filing the bug, set the verbosity to 10 (on Linux, `export AUTOGRAPH_VERBOSITY=10`) and attach the full output.\n",
      "Cause: module 'gast' has no attribute 'Index'\n",
      "To silence this warning, decorate the function with @tf.autograph.experimental.do_not_convert\n",
      "WARNING: AutoGraph could not transform <function correlationMetric at 0x00000245D2EB99D0> and will run it as-is.\n",
      "Please report this to the TensorFlow team. When filing the bug, set the verbosity to 10 (on Linux, `export AUTOGRAPH_VERBOSITY=10`) and attach the full output.\n",
      "Cause: module 'gast' has no attribute 'Index'\n",
      "To silence this warning, decorate the function with @tf.autograph.experimental.do_not_convert\n",
      "1/1 [==============================] - 0s 2ms/step - loss: 1.2325 - correlationLoss: 1.2325 - correlationMetric: 0.8324 - mse: 9.5167 - mae: 2.6763\n",
      "Model: \"sequential\"\n",
      "_________________________________________________________________\n",
      "Layer (type)                 Output Shape              Param #   \n",
      "=================================================================\n",
      "dense (Dense)                (128, 64)                 192       \n",
      "_________________________________________________________________\n",
      "dense_1 (Dense)              (128, 32)                 2080      \n",
      "_________________________________________________________________\n",
      "dense_2 (Dense)              (128, 2)                  66        \n",
      "=================================================================\n",
      "Total params: 2,338\n",
      "Trainable params: 2,338\n",
      "Non-trainable params: 0\n",
      "_________________________________________________________________\n"
     ]
    }
   ],
   "source": [
    "# loss = tf.losses.mean_squared_error\n",
    "loss = correlationLoss\n",
    "\n",
    "model = tf.keras.Sequential()\n",
    "model.add(tf.keras.layers.Dense(64, activation=tf.nn.softsign))\n",
    "model.add(tf.keras.layers.Dense(32, activation=tf.nn.softsign))\n",
    "model.add(tf.keras.layers.Dense(2))\n",
    "# just a linear transformation that makes it easy to scale / shift the prediction right\n",
    "# model.add(tf.keras.layers.Dense(2))\n",
    "model.compile(loss=loss , optimizer='adam', metrics=[loss, correlationMetric, \"mse\", \"mae\"])\n",
    "\n",
    "model.fit(traindataset, steps_per_epoch=1, epochs=1) # this initializes the input_shape\n",
    "model.summary()"
   ]
  },
  {
   "cell_type": "code",
   "execution_count": 10,
   "metadata": {},
   "outputs": [
    {
     "name": "stdout",
     "output_type": "stream",
     "text": [
      "Epoch 1/100\n",
      "1024/1024 [==============================] - 2s 2ms/step - loss: 0.2774 - correlationLoss: 0.2774 - correlationMetric: 0.2002 - mse: 3.9576 - mae: 1.3882 - val_loss: 0.0500 - val_correlationLoss: 0.0500 - val_correlationMetric: 0.0276 - val_mse: 0.9061 - val_mae: 0.5596\n",
      "Epoch 2/100\n",
      "1024/1024 [==============================] - 1s 1ms/step - loss: 0.0390 - correlationLoss: 0.0390 - correlationMetric: 0.0245 - mse: 0.7084 - mae: 0.5086 - val_loss: 0.0337 - val_correlationLoss: 0.0337 - val_correlationMetric: 0.0242 - val_mse: 0.5423 - val_mae: 0.4613\n",
      "Epoch 3/100\n",
      "1024/1024 [==============================] - 1s 1ms/step - loss: 0.0285 - correlationLoss: 0.0285 - correlationMetric: 0.0214 - mse: 0.4679 - mae: 0.4218 - val_loss: 0.0260 - val_correlationLoss: 0.0260 - val_correlationMetric: 0.0213 - val_mse: 0.3373 - val_mae: 0.3598\n",
      "Epoch 4/100\n",
      "1024/1024 [==============================] - 1s 1ms/step - loss: 0.0243 - correlationLoss: 0.0243 - correlationMetric: 0.0205 - mse: 0.3107 - mae: 0.3486 - val_loss: 0.0233 - val_correlationLoss: 0.0233 - val_correlationMetric: 0.0204 - val_mse: 0.2632 - val_mae: 0.3127\n",
      "Epoch 5/100\n",
      "1024/1024 [==============================] - 1s 1ms/step - loss: 0.0218 - correlationLoss: 0.0218 - correlationMetric: 0.0196 - mse: 0.2101 - mae: 0.2878 - val_loss: 0.0181 - val_correlationLoss: 0.0181 - val_correlationMetric: 0.0162 - val_mse: 0.2090 - val_mae: 0.2729\n",
      "Epoch 6/100\n",
      "1024/1024 [==============================] - 1s 1ms/step - loss: 0.0204 - correlationLoss: 0.0204 - correlationMetric: 0.0190 - mse: 0.1451 - mae: 0.2396 - val_loss: 0.0222 - val_correlationLoss: 0.0222 - val_correlationMetric: 0.0212 - val_mse: 0.1075 - val_mae: 0.2178\n",
      "Epoch 7/100\n",
      "1024/1024 [==============================] - 1s 1ms/step - loss: 0.0197 - correlationLoss: 0.0197 - correlationMetric: 0.0187 - mse: 0.1090 - mae: 0.2073 - val_loss: 0.0154 - val_correlationLoss: 0.0154 - val_correlationMetric: 0.0146 - val_mse: 0.0957 - val_mae: 0.1987\n",
      "Epoch 8/100\n",
      "1024/1024 [==============================] - 1s 1ms/step - loss: 0.0192 - correlationLoss: 0.0192 - correlationMetric: 0.0185 - mse: 0.0911 - mae: 0.1883 - val_loss: 0.0246 - val_correlationLoss: 0.0246 - val_correlationMetric: 0.0239 - val_mse: 0.0844 - val_mae: 0.1768\n",
      "Epoch 9/100\n",
      "1024/1024 [==============================] - 1s 1ms/step - loss: 0.0190 - correlationLoss: 0.0190 - correlationMetric: 0.0184 - mse: 0.0797 - mae: 0.1733 - val_loss: 0.0159 - val_correlationLoss: 0.0159 - val_correlationMetric: 0.0153 - val_mse: 0.0660 - val_mae: 0.1619\n",
      "Epoch 10/100\n",
      "1024/1024 [==============================] - 1s 1ms/step - loss: 0.0190 - correlationLoss: 0.0190 - correlationMetric: 0.0184 - mse: 0.0753 - mae: 0.1681 - val_loss: 0.0180 - val_correlationLoss: 0.0180 - val_correlationMetric: 0.0175 - val_mse: 0.0715 - val_mae: 0.1625\n",
      "Epoch 11/100\n",
      "1024/1024 [==============================] - 1s 1ms/step - loss: 0.0187 - correlationLoss: 0.0187 - correlationMetric: 0.0182 - mse: 0.0724 - mae: 0.1648 - val_loss: 0.0201 - val_correlationLoss: 0.0201 - val_correlationMetric: 0.0196 - val_mse: 0.0741 - val_mae: 0.1648\n",
      "Epoch 12/100\n",
      "1024/1024 [==============================] - 2s 2ms/step - loss: 0.0188 - correlationLoss: 0.0188 - correlationMetric: 0.0183 - mse: 0.0718 - mae: 0.1640 - val_loss: 0.0179 - val_correlationLoss: 0.0179 - val_correlationMetric: 0.0174 - val_mse: 0.0654 - val_mae: 0.1605\n",
      "Epoch 13/100\n",
      "1024/1024 [==============================] - 1s 1ms/step - loss: 0.0187 - correlationLoss: 0.0187 - correlationMetric: 0.0182 - mse: 0.0708 - mae: 0.1615 - val_loss: 0.0184 - val_correlationLoss: 0.0184 - val_correlationMetric: 0.0179 - val_mse: 0.0706 - val_mae: 0.1549\n",
      "Epoch 14/100\n",
      "1024/1024 [==============================] - 1s 1ms/step - loss: 0.0186 - correlationLoss: 0.0186 - correlationMetric: 0.0181 - mse: 0.0705 - mae: 0.1617 - val_loss: 0.0192 - val_correlationLoss: 0.0192 - val_correlationMetric: 0.0187 - val_mse: 0.0695 - val_mae: 0.1593\n",
      "Epoch 15/100\n",
      "1024/1024 [==============================] - 1s 1ms/step - loss: 0.0185 - correlationLoss: 0.0185 - correlationMetric: 0.0180 - mse: 0.0706 - mae: 0.1617 - val_loss: 0.0167 - val_correlationLoss: 0.0167 - val_correlationMetric: 0.0162 - val_mse: 0.0708 - val_mae: 0.1614\n",
      "Epoch 16/100\n",
      "1024/1024 [==============================] - 1s 1ms/step - loss: 0.0187 - correlationLoss: 0.0187 - correlationMetric: 0.0181 - mse: 0.0710 - mae: 0.1633 - val_loss: 0.0162 - val_correlationLoss: 0.0162 - val_correlationMetric: 0.0157 - val_mse: 0.0622 - val_mae: 0.1565\n",
      "Epoch 17/100\n",
      "1024/1024 [==============================] - 1s 1ms/step - loss: 0.0186 - correlationLoss: 0.0186 - correlationMetric: 0.0181 - mse: 0.0707 - mae: 0.1626 - val_loss: 0.0191 - val_correlationLoss: 0.0191 - val_correlationMetric: 0.0186 - val_mse: 0.0692 - val_mae: 0.1573\n",
      "Epoch 18/100\n",
      "1024/1024 [==============================] - 1s 1ms/step - loss: 0.0184 - correlationLoss: 0.0184 - correlationMetric: 0.0179 - mse: 0.0703 - mae: 0.1616 - val_loss: 0.0182 - val_correlationLoss: 0.0182 - val_correlationMetric: 0.0177 - val_mse: 0.0750 - val_mae: 0.1625\n",
      "Epoch 19/100\n",
      "1024/1024 [==============================] - 1s 1ms/step - loss: 0.0186 - correlationLoss: 0.0186 - correlationMetric: 0.0180 - mse: 0.0708 - mae: 0.1627 - val_loss: 0.0210 - val_correlationLoss: 0.0210 - val_correlationMetric: 0.0204 - val_mse: 0.0751 - val_mae: 0.1689\n",
      "Epoch 20/100\n",
      "1024/1024 [==============================] - 1s 1ms/step - loss: 0.0185 - correlationLoss: 0.0185 - correlationMetric: 0.0180 - mse: 0.0705 - mae: 0.1621 - val_loss: 0.0169 - val_correlationLoss: 0.0169 - val_correlationMetric: 0.0164 - val_mse: 0.0772 - val_mae: 0.1645\n",
      "Epoch 21/100\n",
      "1024/1024 [==============================] - 1s 1ms/step - loss: 0.0184 - correlationLoss: 0.0184 - correlationMetric: 0.0179 - mse: 0.0706 - mae: 0.1630 - val_loss: 0.0179 - val_correlationLoss: 0.0179 - val_correlationMetric: 0.0174 - val_mse: 0.0671 - val_mae: 0.1554\n",
      "Epoch 22/100\n",
      "1024/1024 [==============================] - 1s 1ms/step - loss: 0.0185 - correlationLoss: 0.0185 - correlationMetric: 0.0180 - mse: 0.0706 - mae: 0.1629 - val_loss: 0.0177 - val_correlationLoss: 0.0177 - val_correlationMetric: 0.0172 - val_mse: 0.0637 - val_mae: 0.1513\n",
      "Epoch 23/100\n",
      "1024/1024 [==============================] - 1s 1ms/step - loss: 0.0185 - correlationLoss: 0.0185 - correlationMetric: 0.0180 - mse: 0.0706 - mae: 0.1627 - val_loss: 0.0170 - val_correlationLoss: 0.0170 - val_correlationMetric: 0.0165 - val_mse: 0.0726 - val_mae: 0.1617\n",
      "Epoch 24/100\n",
      "1024/1024 [==============================] - 1s 1ms/step - loss: 0.0186 - correlationLoss: 0.0186 - correlationMetric: 0.0181 - mse: 0.0708 - mae: 0.1624 - val_loss: 0.0180 - val_correlationLoss: 0.0180 - val_correlationMetric: 0.0175 - val_mse: 0.0695 - val_mae: 0.1589\n",
      "Epoch 25/100\n",
      "1024/1024 [==============================] - 1s 1ms/step - loss: 0.0185 - correlationLoss: 0.0185 - correlationMetric: 0.0179 - mse: 0.0709 - mae: 0.1630 - val_loss: 0.0182 - val_correlationLoss: 0.0182 - val_correlationMetric: 0.0177 - val_mse: 0.0744 - val_mae: 0.1768\n",
      "Epoch 26/100\n",
      "1024/1024 [==============================] - 1s 1ms/step - loss: 0.0185 - correlationLoss: 0.0185 - correlationMetric: 0.0180 - mse: 0.0709 - mae: 0.1632 - val_loss: 0.0198 - val_correlationLoss: 0.0198 - val_correlationMetric: 0.0192 - val_mse: 0.0759 - val_mae: 0.1703\n",
      "Epoch 27/100\n",
      "1024/1024 [==============================] - 1s 1ms/step - loss: 0.0185 - correlationLoss: 0.0185 - correlationMetric: 0.0180 - mse: 0.0707 - mae: 0.1620 - val_loss: 0.0202 - val_correlationLoss: 0.0202 - val_correlationMetric: 0.0197 - val_mse: 0.0666 - val_mae: 0.1574\n",
      "Epoch 28/100\n",
      "1024/1024 [==============================] - 1s 1ms/step - loss: 0.0185 - correlationLoss: 0.0185 - correlationMetric: 0.0179 - mse: 0.0707 - mae: 0.1628 - val_loss: 0.0166 - val_correlationLoss: 0.0166 - val_correlationMetric: 0.0161 - val_mse: 0.0724 - val_mae: 0.1595\n",
      "Epoch 29/100\n",
      "1024/1024 [==============================] - 1s 1ms/step - loss: 0.0184 - correlationLoss: 0.0184 - correlationMetric: 0.0179 - mse: 0.0709 - mae: 0.1633 - val_loss: 0.0171 - val_correlationLoss: 0.0171 - val_correlationMetric: 0.0166 - val_mse: 0.0719 - val_mae: 0.1609\n"
     ]
    },
    {
     "name": "stdout",
     "output_type": "stream",
     "text": [
      "Epoch 30/100\n",
      "1024/1024 [==============================] - 1s 1ms/step - loss: 0.0184 - correlationLoss: 0.0184 - correlationMetric: 0.0179 - mse: 0.0711 - mae: 0.1629 - val_loss: 0.0171 - val_correlationLoss: 0.0171 - val_correlationMetric: 0.0166 - val_mse: 0.0658 - val_mae: 0.1550\n",
      "Epoch 31/100\n",
      "1024/1024 [==============================] - 1s 1ms/step - loss: 0.0184 - correlationLoss: 0.0184 - correlationMetric: 0.0179 - mse: 0.0710 - mae: 0.1638 - val_loss: 0.0188 - val_correlationLoss: 0.0188 - val_correlationMetric: 0.0183 - val_mse: 0.0720 - val_mae: 0.1650\n",
      "Epoch 32/100\n",
      "1024/1024 [==============================] - 1s 1ms/step - loss: 0.0185 - correlationLoss: 0.0185 - correlationMetric: 0.0180 - mse: 0.0705 - mae: 0.1618 - val_loss: 0.0142 - val_correlationLoss: 0.0142 - val_correlationMetric: 0.0137 - val_mse: 0.0739 - val_mae: 0.1702\n",
      "Epoch 33/100\n",
      "1024/1024 [==============================] - 1s 1ms/step - loss: 0.0184 - correlationLoss: 0.0184 - correlationMetric: 0.0179 - mse: 0.0708 - mae: 0.1624 - val_loss: 0.0194 - val_correlationLoss: 0.0194 - val_correlationMetric: 0.0189 - val_mse: 0.0717 - val_mae: 0.1596\n",
      "Epoch 34/100\n",
      "1024/1024 [==============================] - 1s 1ms/step - loss: 0.0184 - correlationLoss: 0.0184 - correlationMetric: 0.0179 - mse: 0.0705 - mae: 0.1623 - val_loss: 0.0196 - val_correlationLoss: 0.0196 - val_correlationMetric: 0.0191 - val_mse: 0.0716 - val_mae: 0.1661\n",
      "Epoch 35/100\n",
      "1024/1024 [==============================] - 1s 1ms/step - loss: 0.0185 - correlationLoss: 0.0185 - correlationMetric: 0.0180 - mse: 0.0705 - mae: 0.1621 - val_loss: 0.0210 - val_correlationLoss: 0.0210 - val_correlationMetric: 0.0205 - val_mse: 0.0730 - val_mae: 0.1632\n",
      "Epoch 36/100\n",
      "1024/1024 [==============================] - 1s 1ms/step - loss: 0.0186 - correlationLoss: 0.0186 - correlationMetric: 0.0181 - mse: 0.0709 - mae: 0.1632 - val_loss: 0.0170 - val_correlationLoss: 0.0170 - val_correlationMetric: 0.0165 - val_mse: 0.0706 - val_mae: 0.1714\n",
      "Epoch 37/100\n",
      "1024/1024 [==============================] - 1s 1ms/step - loss: 0.0184 - correlationLoss: 0.0184 - correlationMetric: 0.0179 - mse: 0.0709 - mae: 0.1628 - val_loss: 0.0204 - val_correlationLoss: 0.0204 - val_correlationMetric: 0.0198 - val_mse: 0.0737 - val_mae: 0.1657\n",
      "Epoch 38/100\n",
      "1024/1024 [==============================] - 1s 1ms/step - loss: 0.0184 - correlationLoss: 0.0184 - correlationMetric: 0.0179 - mse: 0.0705 - mae: 0.1619 - val_loss: 0.0178 - val_correlationLoss: 0.0178 - val_correlationMetric: 0.0173 - val_mse: 0.0613 - val_mae: 0.1554\n",
      "Epoch 39/100\n",
      "1024/1024 [==============================] - 1s 1ms/step - loss: 0.0183 - correlationLoss: 0.0183 - correlationMetric: 0.0178 - mse: 0.0701 - mae: 0.1612 - val_loss: 0.0191 - val_correlationLoss: 0.0191 - val_correlationMetric: 0.0186 - val_mse: 0.0684 - val_mae: 0.1593\n",
      "Epoch 40/100\n",
      "1024/1024 [==============================] - 1s 1ms/step - loss: 0.0184 - correlationLoss: 0.0184 - correlationMetric: 0.0179 - mse: 0.0704 - mae: 0.1616 - val_loss: 0.0188 - val_correlationLoss: 0.0188 - val_correlationMetric: 0.0183 - val_mse: 0.0716 - val_mae: 0.1611\n",
      "Epoch 41/100\n",
      "1024/1024 [==============================] - 1s 1ms/step - loss: 0.0184 - correlationLoss: 0.0184 - correlationMetric: 0.0179 - mse: 0.0703 - mae: 0.1619 - val_loss: 0.0188 - val_correlationLoss: 0.0188 - val_correlationMetric: 0.0183 - val_mse: 0.0684 - val_mae: 0.1557\n",
      "Epoch 42/100\n",
      "1024/1024 [==============================] - 1s 1ms/step - loss: 0.0185 - correlationLoss: 0.0185 - correlationMetric: 0.0180 - mse: 0.0704 - mae: 0.1618 - val_loss: 0.0189 - val_correlationLoss: 0.0189 - val_correlationMetric: 0.0184 - val_mse: 0.0750 - val_mae: 0.1689\n",
      "Epoch 43/100\n",
      "1024/1024 [==============================] - 1s 1ms/step - loss: 0.0184 - correlationLoss: 0.0184 - correlationMetric: 0.0179 - mse: 0.0704 - mae: 0.1625 - val_loss: 0.0165 - val_correlationLoss: 0.0165 - val_correlationMetric: 0.0160 - val_mse: 0.0658 - val_mae: 0.1539\n",
      "Epoch 44/100\n",
      "1024/1024 [==============================] - 1s 1ms/step - loss: 0.0183 - correlationLoss: 0.0183 - correlationMetric: 0.0178 - mse: 0.0704 - mae: 0.1619 - val_loss: 0.0137 - val_correlationLoss: 0.0137 - val_correlationMetric: 0.0133 - val_mse: 0.0587 - val_mae: 0.1465\n",
      "Epoch 45/100\n",
      "1024/1024 [==============================] - 1s 1ms/step - loss: 0.0185 - correlationLoss: 0.0185 - correlationMetric: 0.0180 - mse: 0.0710 - mae: 0.1629 - val_loss: 0.0150 - val_correlationLoss: 0.0150 - val_correlationMetric: 0.0145 - val_mse: 0.0726 - val_mae: 0.1625\n",
      "Epoch 46/100\n",
      "1024/1024 [==============================] - 2s 2ms/step - loss: 0.0184 - correlationLoss: 0.0184 - correlationMetric: 0.0179 - mse: 0.0706 - mae: 0.1618 - val_loss: 0.0166 - val_correlationLoss: 0.0166 - val_correlationMetric: 0.0161 - val_mse: 0.0718 - val_mae: 0.1621\n",
      "Epoch 47/100\n",
      "1024/1024 [==============================] - 1s 1ms/step - loss: 0.0184 - correlationLoss: 0.0184 - correlationMetric: 0.0179 - mse: 0.0706 - mae: 0.1626 - val_loss: 0.0240 - val_correlationLoss: 0.0240 - val_correlationMetric: 0.0234 - val_mse: 0.0717 - val_mae: 0.1657\n",
      "Epoch 48/100\n",
      "1024/1024 [==============================] - 1s 1ms/step - loss: 0.0185 - correlationLoss: 0.0185 - correlationMetric: 0.0180 - mse: 0.0706 - mae: 0.1620 - val_loss: 0.0184 - val_correlationLoss: 0.0184 - val_correlationMetric: 0.0179 - val_mse: 0.0680 - val_mae: 0.1535\n",
      "Epoch 49/100\n",
      "1024/1024 [==============================] - 1s 1ms/step - loss: 0.0183 - correlationLoss: 0.0183 - correlationMetric: 0.0178 - mse: 0.0700 - mae: 0.1616 - val_loss: 0.0196 - val_correlationLoss: 0.0196 - val_correlationMetric: 0.0191 - val_mse: 0.0743 - val_mae: 0.1595\n",
      "Epoch 50/100\n",
      "1024/1024 [==============================] - 1s 1ms/step - loss: 0.0186 - correlationLoss: 0.0186 - correlationMetric: 0.0181 - mse: 0.0705 - mae: 0.1620 - val_loss: 0.0184 - val_correlationLoss: 0.0184 - val_correlationMetric: 0.0179 - val_mse: 0.0712 - val_mae: 0.1597\n",
      "Epoch 51/100\n",
      "1024/1024 [==============================] - 1s 1ms/step - loss: 0.0184 - correlationLoss: 0.0184 - correlationMetric: 0.0179 - mse: 0.0705 - mae: 0.1618 - val_loss: 0.0204 - val_correlationLoss: 0.0204 - val_correlationMetric: 0.0199 - val_mse: 0.0730 - val_mae: 0.1680\n",
      "Epoch 52/100\n",
      "1024/1024 [==============================] - 1s 1ms/step - loss: 0.0184 - correlationLoss: 0.0184 - correlationMetric: 0.0179 - mse: 0.0704 - mae: 0.1623 - val_loss: 0.0184 - val_correlationLoss: 0.0184 - val_correlationMetric: 0.0179 - val_mse: 0.0651 - val_mae: 0.1530\n",
      "Epoch 53/100\n",
      "1024/1024 [==============================] - 2s 1ms/step - loss: 0.0185 - correlationLoss: 0.0185 - correlationMetric: 0.0180 - mse: 0.0703 - mae: 0.1611 - val_loss: 0.0179 - val_correlationLoss: 0.0179 - val_correlationMetric: 0.0174 - val_mse: 0.0713 - val_mae: 0.1659185 - correlationLoss: 0.0185 - correlationMetric: 0.0180 - mse: 0.0703 - mae: 0.16\n",
      "Epoch 54/100\n",
      "1024/1024 [==============================] - 2s 2ms/step - loss: 0.0184 - correlationLoss: 0.0184 - correlationMetric: 0.0179 - mse: 0.0703 - mae: 0.1612 - val_loss: 0.0171 - val_correlationLoss: 0.0171 - val_correlationMetric: 0.0167 - val_mse: 0.0638 - val_mae: 0.1529\n",
      "Epoch 55/100\n",
      "1024/1024 [==============================] - 1s 1ms/step - loss: 0.0185 - correlationLoss: 0.0185 - correlationMetric: 0.0180 - mse: 0.0702 - mae: 0.1607 - val_loss: 0.0203 - val_correlationLoss: 0.0203 - val_correlationMetric: 0.0198 - val_mse: 0.0688 - val_mae: 0.1582\n",
      "Epoch 56/100\n",
      "1024/1024 [==============================] - 1s 1ms/step - loss: 0.0182 - correlationLoss: 0.0182 - correlationMetric: 0.0177 - mse: 0.0703 - mae: 0.1621 - val_loss: 0.0191 - val_correlationLoss: 0.0191 - val_correlationMetric: 0.0186 - val_mse: 0.0690 - val_mae: 0.1589\n",
      "Epoch 57/100\n",
      "1024/1024 [==============================] - 1s 1ms/step - loss: 0.0184 - correlationLoss: 0.0184 - correlationMetric: 0.0179 - mse: 0.0700 - mae: 0.1605 - val_loss: 0.0178 - val_correlationLoss: 0.0178 - val_correlationMetric: 0.0173 - val_mse: 0.0758 - val_mae: 0.1724\n",
      "Epoch 58/100\n",
      "1024/1024 [==============================] - 1s 1ms/step - loss: 0.0184 - correlationLoss: 0.0184 - correlationMetric: 0.0179 - mse: 0.0704 - mae: 0.1622 - val_loss: 0.0174 - val_correlationLoss: 0.0174 - val_correlationMetric: 0.0169 - val_mse: 0.0697 - val_mae: 0.1629\n",
      "Epoch 59/100\n",
      "1024/1024 [==============================] - 1s 1ms/step - loss: 0.0184 - correlationLoss: 0.0184 - correlationMetric: 0.0179 - mse: 0.0702 - mae: 0.1614 - val_loss: 0.0201 - val_correlationLoss: 0.0201 - val_correlationMetric: 0.0196 - val_mse: 0.0651 - val_mae: 0.1533\n",
      "Epoch 60/100\n",
      "1024/1024 [==============================] - 1s 1ms/step - loss: 0.0183 - correlationLoss: 0.0183 - correlationMetric: 0.0178 - mse: 0.0703 - mae: 0.1617 - val_loss: 0.0162 - val_correlationLoss: 0.0162 - val_correlationMetric: 0.0157 - val_mse: 0.0707 - val_mae: 0.1679\n",
      "Epoch 61/100\n",
      "1024/1024 [==============================] - 1s 1ms/step - loss: 0.0184 - correlationLoss: 0.0184 - correlationMetric: 0.0179 - mse: 0.0705 - mae: 0.1623 - val_loss: 0.0194 - val_correlationLoss: 0.0194 - val_correlationMetric: 0.0189 - val_mse: 0.0697 - val_mae: 0.1591\n",
      "Epoch 62/100\n",
      "1024/1024 [==============================] - 1s 1ms/step - loss: 0.0183 - correlationLoss: 0.0183 - correlationMetric: 0.0178 - mse: 0.0701 - mae: 0.1613 - val_loss: 0.0188 - val_correlationLoss: 0.0188 - val_correlationMetric: 0.0183 - val_mse: 0.0730 - val_mae: 0.1619\n",
      "Epoch 63/100\n",
      "1024/1024 [==============================] - 1s 1ms/step - loss: 0.0184 - correlationLoss: 0.0184 - correlationMetric: 0.0179 - mse: 0.0704 - mae: 0.1627 - val_loss: 0.0197 - val_correlationLoss: 0.0197 - val_correlationMetric: 0.0192 - val_mse: 0.0729 - val_mae: 0.1701\n",
      "Epoch 64/100\n",
      "1024/1024 [==============================] - 1s 1ms/step - loss: 0.0184 - correlationLoss: 0.0184 - correlationMetric: 0.0179 - mse: 0.0703 - mae: 0.1619 - val_loss: 0.0218 - val_correlationLoss: 0.0218 - val_correlationMetric: 0.0213 - val_mse: 0.0766 - val_mae: 0.1700\n",
      "Epoch 65/100\n",
      "1024/1024 [==============================] - 1s 1ms/step - loss: 0.0184 - correlationLoss: 0.0184 - correlationMetric: 0.0179 - mse: 0.0702 - mae: 0.1610 - val_loss: 0.0191 - val_correlationLoss: 0.0191 - val_correlationMetric: 0.0186 - val_mse: 0.0746 - val_mae: 0.1658\n",
      "Epoch 66/100\n",
      "1024/1024 [==============================] - 2s 2ms/step - loss: 0.0183 - correlationLoss: 0.0183 - correlationMetric: 0.0178 - mse: 0.0702 - mae: 0.1614 - val_loss: 0.0201 - val_correlationLoss: 0.0201 - val_correlationMetric: 0.0196 - val_mse: 0.0742 - val_mae: 0.1608\n",
      "Epoch 67/100\n",
      "1024/1024 [==============================] - 1s 1ms/step - loss: 0.0183 - correlationLoss: 0.0183 - correlationMetric: 0.0178 - mse: 0.0701 - mae: 0.1607 - val_loss: 0.0193 - val_correlationLoss: 0.0193 - val_correlationMetric: 0.0188 - val_mse: 0.0706 - val_mae: 0.1623\n",
      "Epoch 68/100\n",
      "1024/1024 [==============================] - 1s 1ms/step - loss: 0.0183 - correlationLoss: 0.0183 - correlationMetric: 0.0178 - mse: 0.0700 - mae: 0.1609 - val_loss: 0.0172 - val_correlationLoss: 0.0172 - val_correlationMetric: 0.0167 - val_mse: 0.0642 - val_mae: 0.1534\n",
      "Epoch 69/100\n",
      "1024/1024 [==============================] - 1s 1ms/step - loss: 0.0183 - correlationLoss: 0.0183 - correlationMetric: 0.0178 - mse: 0.0701 - mae: 0.1615 - val_loss: 0.0155 - val_correlationLoss: 0.0155 - val_correlationMetric: 0.0151 - val_mse: 0.0636 - val_mae: 0.1519\n",
      "Epoch 70/100\n",
      "1024/1024 [==============================] - 1s 1ms/step - loss: 0.0185 - correlationLoss: 0.0185 - correlationMetric: 0.0180 - mse: 0.0700 - mae: 0.1601 - val_loss: 0.0179 - val_correlationLoss: 0.0179 - val_correlationMetric: 0.0174 - val_mse: 0.0683 - val_mae: 0.1588\n",
      "Epoch 71/100\n",
      "1024/1024 [==============================] - 1s 1ms/step - loss: 0.0182 - correlationLoss: 0.0182 - correlationMetric: 0.0177 - mse: 0.0700 - mae: 0.1603 - val_loss: 0.0196 - val_correlationLoss: 0.0196 - val_correlationMetric: 0.0191 - val_mse: 0.0667 - val_mae: 0.1596\n",
      "Epoch 72/100\n",
      "1024/1024 [==============================] - 2s 2ms/step - loss: 0.0183 - correlationLoss: 0.0183 - correlationMetric: 0.0178 - mse: 0.0701 - mae: 0.1609 - val_loss: 0.0193 - val_correlationLoss: 0.0193 - val_correlationMetric: 0.0188 - val_mse: 0.0689 - val_mae: 0.1550\n",
      "Epoch 73/100\n",
      "1024/1024 [==============================] - 1s 1ms/step - loss: 0.0184 - correlationLoss: 0.0184 - correlationMetric: 0.0178 - mse: 0.0700 - mae: 0.1616 - val_loss: 0.0156 - val_correlationLoss: 0.0156 - val_correlationMetric: 0.0152 - val_mse: 0.0635 - val_mae: 0.1567\n",
      "Epoch 74/100\n",
      "1024/1024 [==============================] - 1s 1ms/step - loss: 0.0182 - correlationLoss: 0.0182 - correlationMetric: 0.0177 - mse: 0.0702 - mae: 0.1624 - val_loss: 0.0194 - val_correlationLoss: 0.0194 - val_correlationMetric: 0.0188 - val_mse: 0.0742 - val_mae: 0.1650\n",
      "Epoch 75/100\n",
      "1024/1024 [==============================] - 1s 1ms/step - loss: 0.0183 - correlationLoss: 0.0183 - correlationMetric: 0.0178 - mse: 0.0701 - mae: 0.1613 - val_loss: 0.0205 - val_correlationLoss: 0.0205 - val_correlationMetric: 0.0200 - val_mse: 0.0711 - val_mae: 0.1609\n",
      "Epoch 76/100\n",
      "1024/1024 [==============================] - 1s 1ms/step - loss: 0.0183 - correlationLoss: 0.0183 - correlationMetric: 0.0178 - mse: 0.0700 - mae: 0.1611 - val_loss: 0.0157 - val_correlationLoss: 0.0157 - val_correlationMetric: 0.0152 - val_mse: 0.0746 - val_mae: 0.1701\n",
      "Epoch 77/100\n",
      "1024/1024 [==============================] - 1s 1ms/step - loss: 0.0183 - correlationLoss: 0.0183 - correlationMetric: 0.0178 - mse: 0.0700 - mae: 0.1609 - val_loss: 0.0183 - val_correlationLoss: 0.0183 - val_correlationMetric: 0.0178 - val_mse: 0.0711 - val_mae: 0.1590\n",
      "Epoch 78/100\n",
      "1024/1024 [==============================] - 1s 1ms/step - loss: 0.0183 - correlationLoss: 0.0183 - correlationMetric: 0.0178 - mse: 0.0701 - mae: 0.1613 - val_loss: 0.0174 - val_correlationLoss: 0.0174 - val_correlationMetric: 0.0170 - val_mse: 0.0710 - val_mae: 0.1610\n",
      "Epoch 79/100\n",
      "1024/1024 [==============================] - 2s 2ms/step - loss: 0.0183 - correlationLoss: 0.0183 - correlationMetric: 0.0178 - mse: 0.0703 - mae: 0.1617 - val_loss: 0.0171 - val_correlationLoss: 0.0171 - val_correlationMetric: 0.0166 - val_mse: 0.0683 - val_mae: 0.1554\n",
      "Epoch 80/100\n",
      "1024/1024 [==============================] - 1s 1ms/step - loss: 0.0185 - correlationLoss: 0.0185 - correlationMetric: 0.0179 - mse: 0.0702 - mae: 0.1614 - val_loss: 0.0163 - val_correlationLoss: 0.0163 - val_correlationMetric: 0.0159 - val_mse: 0.0703 - val_mae: 0.1572\n",
      "Epoch 81/100\n",
      "1024/1024 [==============================] - 1s 1ms/step - loss: 0.0182 - correlationLoss: 0.0182 - correlationMetric: 0.0177 - mse: 0.0697 - mae: 0.1601 - val_loss: 0.0199 - val_correlationLoss: 0.0199 - val_correlationMetric: 0.0194 - val_mse: 0.0715 - val_mae: 0.1642\n",
      "Epoch 82/100\n",
      "1024/1024 [==============================] - 1s 1ms/step - loss: 0.0182 - correlationLoss: 0.0182 - correlationMetric: 0.0177 - mse: 0.0699 - mae: 0.1605 - val_loss: 0.0194 - val_correlationLoss: 0.0194 - val_correlationMetric: 0.0189 - val_mse: 0.0691 - val_mae: 0.1566\n",
      "Epoch 83/100\n",
      "1024/1024 [==============================] - 1s 1ms/step - loss: 0.0184 - correlationLoss: 0.0184 - correlationMetric: 0.0179 - mse: 0.0700 - mae: 0.1607 - val_loss: 0.0183 - val_correlationLoss: 0.0183 - val_correlationMetric: 0.0179 - val_mse: 0.0685 - val_mae: 0.1556\n",
      "Epoch 84/100\n",
      "1024/1024 [==============================] - 1s 1ms/step - loss: 0.0183 - correlationLoss: 0.0183 - correlationMetric: 0.0178 - mse: 0.0701 - mae: 0.1611 - val_loss: 0.0176 - val_correlationLoss: 0.0176 - val_correlationMetric: 0.0171 - val_mse: 0.0707 - val_mae: 0.1603\n",
      "Epoch 85/100\n",
      "1024/1024 [==============================] - 1s 1ms/step - loss: 0.0184 - correlationLoss: 0.0184 - correlationMetric: 0.0179 - mse: 0.0700 - mae: 0.1602 - val_loss: 0.0196 - val_correlationLoss: 0.0196 - val_correlationMetric: 0.0190 - val_mse: 0.0760 - val_mae: 0.1645\n",
      "Epoch 86/100\n",
      "1024/1024 [==============================] - 1s 1ms/step - loss: 0.0183 - correlationLoss: 0.0183 - correlationMetric: 0.0178 - mse: 0.0698 - mae: 0.1601 - val_loss: 0.0177 - val_correlationLoss: 0.0177 - val_correlationMetric: 0.0172 - val_mse: 0.0680 - val_mae: 0.1565\n"
     ]
    },
    {
     "name": "stdout",
     "output_type": "stream",
     "text": [
      "Epoch 87/100\n",
      "1024/1024 [==============================] - 2s 2ms/step - loss: 0.0183 - correlationLoss: 0.0183 - correlationMetric: 0.0178 - mse: 0.0697 - mae: 0.1600 - val_loss: 0.0193 - val_correlationLoss: 0.0193 - val_correlationMetric: 0.0188 - val_mse: 0.0684 - val_mae: 0.1609\n",
      "Epoch 88/100\n",
      "1024/1024 [==============================] - 1s 1ms/step - loss: 0.0184 - correlationLoss: 0.0184 - correlationMetric: 0.0179 - mse: 0.0699 - mae: 0.1604 - val_loss: 0.0207 - val_correlationLoss: 0.0207 - val_correlationMetric: 0.0201 - val_mse: 0.0778 - val_mae: 0.1678\n",
      "Epoch 89/100\n",
      "1024/1024 [==============================] - 1s 1ms/step - loss: 0.0183 - correlationLoss: 0.0183 - correlationMetric: 0.0178 - mse: 0.0699 - mae: 0.1606 - val_loss: 0.0188 - val_correlationLoss: 0.0188 - val_correlationMetric: 0.0183 - val_mse: 0.0745 - val_mae: 0.1576\n",
      "Epoch 90/100\n",
      "1024/1024 [==============================] - 1s 1ms/step - loss: 0.0184 - correlationLoss: 0.0184 - correlationMetric: 0.0179 - mse: 0.0700 - mae: 0.1613 - val_loss: 0.0219 - val_correlationLoss: 0.0219 - val_correlationMetric: 0.0214 - val_mse: 0.0696 - val_mae: 0.1549\n",
      "Epoch 91/100\n",
      "1024/1024 [==============================] - 1s 1ms/step - loss: 0.0183 - correlationLoss: 0.0183 - correlationMetric: 0.0178 - mse: 0.0699 - mae: 0.1606 - val_loss: 0.0169 - val_correlationLoss: 0.0169 - val_correlationMetric: 0.0165 - val_mse: 0.0653 - val_mae: 0.1545\n",
      "Epoch 92/100\n",
      "1024/1024 [==============================] - 1s 1ms/step - loss: 0.0184 - correlationLoss: 0.0184 - correlationMetric: 0.0179 - mse: 0.0697 - mae: 0.1608 - val_loss: 0.0160 - val_correlationLoss: 0.0160 - val_correlationMetric: 0.0155 - val_mse: 0.0692 - val_mae: 0.1648\n",
      "Epoch 93/100\n",
      "1024/1024 [==============================] - 1s 1ms/step - loss: 0.0183 - correlationLoss: 0.0183 - correlationMetric: 0.0178 - mse: 0.0697 - mae: 0.1600 - val_loss: 0.0173 - val_correlationLoss: 0.0173 - val_correlationMetric: 0.0168 - val_mse: 0.0687 - val_mae: 0.1652\n",
      "Epoch 94/100\n",
      "1024/1024 [==============================] - 1s 1ms/step - loss: 0.0182 - correlationLoss: 0.0182 - correlationMetric: 0.0177 - mse: 0.0699 - mae: 0.1613 - val_loss: 0.0186 - val_correlationLoss: 0.0186 - val_correlationMetric: 0.0181 - val_mse: 0.0719 - val_mae: 0.1584\n",
      "Epoch 95/100\n",
      "1024/1024 [==============================] - 1s 1ms/step - loss: 0.0183 - correlationLoss: 0.0183 - correlationMetric: 0.0178 - mse: 0.0696 - mae: 0.1603 - val_loss: 0.0193 - val_correlationLoss: 0.0193 - val_correlationMetric: 0.0188 - val_mse: 0.0717 - val_mae: 0.1639\n",
      "Epoch 96/100\n",
      "1024/1024 [==============================] - 1s 1ms/step - loss: 0.0183 - correlationLoss: 0.0183 - correlationMetric: 0.0178 - mse: 0.0698 - mae: 0.1606 - val_loss: 0.0189 - val_correlationLoss: 0.0189 - val_correlationMetric: 0.0184 - val_mse: 0.0688 - val_mae: 0.1589\n",
      "Epoch 97/100\n",
      "1024/1024 [==============================] - 1s 1ms/step - loss: 0.0182 - correlationLoss: 0.0182 - correlationMetric: 0.0177 - mse: 0.0700 - mae: 0.1611 - val_loss: 0.0167 - val_correlationLoss: 0.0167 - val_correlationMetric: 0.0162 - val_mse: 0.0688 - val_mae: 0.1605\n",
      "Epoch 98/100\n",
      "1024/1024 [==============================] - 1s 1ms/step - loss: 0.0185 - correlationLoss: 0.0185 - correlationMetric: 0.0180 - mse: 0.0700 - mae: 0.1611 - val_loss: 0.0157 - val_correlationLoss: 0.0157 - val_correlationMetric: 0.0152 - val_mse: 0.0675 - val_mae: 0.1553\n",
      "Epoch 99/100\n",
      "1024/1024 [==============================] - 1s 1ms/step - loss: 0.0183 - correlationLoss: 0.0183 - correlationMetric: 0.0178 - mse: 0.0698 - mae: 0.1610 - val_loss: 0.0215 - val_correlationLoss: 0.0215 - val_correlationMetric: 0.0209 - val_mse: 0.0662 - val_mae: 0.1596\n",
      "Epoch 100/100\n",
      "1024/1024 [==============================] - 1s 1ms/step - loss: 0.0183 - correlationLoss: 0.0183 - correlationMetric: 0.0178 - mse: 0.0699 - mae: 0.1605 - val_loss: 0.0194 - val_correlationLoss: 0.0194 - val_correlationMetric: 0.0188 - val_mse: 0.0721 - val_mae: 0.1620\n",
      "Wall time: 2min 12s\n"
     ]
    }
   ],
   "source": [
    "#%time history = model.fit(traindataset, epochs=epochs, steps_per_epoch=steps, validation_data=validationdataset, validation_steps=validationsamples // batchsize, callbacks=[terminate_nan,early_stop])\n",
    "%time history = model.fit(traindataset, epochs=epochs, steps_per_epoch=steps, validation_data=validationdataset, validation_steps=validationsamples // batchsize)\n",
    "#%time history = model.fit(tdataset, epochs=epochs, steps_per_epoch=steps, validation_split=0.1, callbacks=[terminate_nan])"
   ]
  },
  {
   "cell_type": "code",
   "execution_count": 11,
   "metadata": {},
   "outputs": [
    {
     "name": "stdout",
     "output_type": "stream",
     "text": [
      "0.018291287124156952 0.13524528503484678\n",
      "0.01936403103172779 0.13915470179526018\n",
      "Model: \"sequential\"\n",
      "_________________________________________________________________\n",
      "Layer (type)                 Output Shape              Param #   \n",
      "=================================================================\n",
      "dense (Dense)                (128, 64)                 192       \n",
      "_________________________________________________________________\n",
      "dense_1 (Dense)              (128, 32)                 2080      \n",
      "_________________________________________________________________\n",
      "dense_2 (Dense)              (128, 2)                  66        \n",
      "=================================================================\n",
      "Total params: 2,338\n",
      "Trainable params: 2,338\n",
      "Non-trainable params: 0\n",
      "_________________________________________________________________\n"
     ]
    },
    {
     "data": {
      "text/plain": [
       "{'verbose': 1, 'epochs': 100, 'steps': 1024}"
      ]
     },
     "execution_count": 11,
     "metadata": {},
     "output_type": "execute_result"
    },
    {
     "data": {
      "image/png": "[encoded data removed]",
      "text/plain": [
       "<Figure size 900x900 with 1 Axes>"
      ]
     },
     "metadata": {
      "needs_background": "light"
     },
     "output_type": "display_data"
    }
   ],
   "source": [
    "print(history.history['loss'][-1], np.sqrt(history.history['loss'][-1]))\n",
    "print(history.history['val_loss'][-1], np.sqrt(history.history['val_loss'][-1]))\n",
    "#plot_history(history)\n",
    "#print(datetime.datetime.now())\n",
    "pd.DataFrame(history.history).plot(logy=True, figsize=(12.5,12.5))\n",
    "model.summary()\n",
    "history.params"
   ]
  },
  {
   "cell_type": "code",
   "execution_count": 15,
   "metadata": {},
   "outputs": [
    {
     "ename": "KeyError",
     "evalue": "'acc'",
     "output_type": "error",
     "traceback": [
      "\u001b[1;31m---------------------------------------------------------------------------\u001b[0m",
      "\u001b[1;31mKeyError\u001b[0m                                  Traceback (most recent call last)",
      "\u001b[1;32m~\\AppData\\Local\\Temp/ipykernel_11564/3932017409.py\u001b[0m in \u001b[0;36m<module>\u001b[1;34m\u001b[0m\n\u001b[0;32m      1\u001b[0m \u001b[1;32mfrom\u001b[0m \u001b[0mkeras_hist_graph\u001b[0m \u001b[1;32mimport\u001b[0m \u001b[0mplot_history\u001b[0m\u001b[1;33m\u001b[0m\u001b[1;33m\u001b[0m\u001b[0m\n\u001b[1;32m----> 2\u001b[1;33m \u001b[0mplot_history\u001b[0m\u001b[1;33m(\u001b[0m\u001b[0mhistory\u001b[0m\u001b[1;33m)\u001b[0m\u001b[1;33m\u001b[0m\u001b[1;33m\u001b[0m\u001b[0m\n\u001b[0m",
      "\u001b[1;32m~\\anaconda3\\envs\\tsfl2\\lib\\site-packages\\keras_hist_graph\\keras_hist_graph.py\u001b[0m in \u001b[0;36mplot_history\u001b[1;34m(history, start_epoch, smooth_factor, xkcd, fig_size, min_accuracy)\u001b[0m\n\u001b[0;32m     68\u001b[0m     )\n\u001b[0;32m     69\u001b[0m \u001b[1;33m\u001b[0m\u001b[0m\n\u001b[1;32m---> 70\u001b[1;33m     \u001b[0mset_plot_history_data\u001b[0m\u001b[1;33m(\u001b[0m\u001b[0max1\u001b[0m\u001b[1;33m,\u001b[0m \u001b[0mhistory\u001b[0m\u001b[1;33m,\u001b[0m \u001b[1;34m\"acc\"\u001b[0m\u001b[1;33m,\u001b[0m \u001b[0mstart_epoch\u001b[0m\u001b[1;33m,\u001b[0m \u001b[0msmooth_factor\u001b[0m\u001b[1;33m,\u001b[0m \u001b[0mxkcd\u001b[0m\u001b[1;33m)\u001b[0m\u001b[1;33m\u001b[0m\u001b[1;33m\u001b[0m\u001b[0m\n\u001b[0m\u001b[0;32m     71\u001b[0m \u001b[1;33m\u001b[0m\u001b[0m\n\u001b[0;32m     72\u001b[0m     \u001b[0mset_plot_history_data\u001b[0m\u001b[1;33m(\u001b[0m\u001b[0max2\u001b[0m\u001b[1;33m,\u001b[0m \u001b[0mhistory\u001b[0m\u001b[1;33m,\u001b[0m \u001b[1;34m\"loss\"\u001b[0m\u001b[1;33m,\u001b[0m \u001b[0mstart_epoch\u001b[0m\u001b[1;33m,\u001b[0m \u001b[0msmooth_factor\u001b[0m\u001b[1;33m,\u001b[0m \u001b[0mxkcd\u001b[0m\u001b[1;33m)\u001b[0m\u001b[1;33m\u001b[0m\u001b[1;33m\u001b[0m\u001b[0m\n",
      "\u001b[1;32m~\\anaconda3\\envs\\tsfl2\\lib\\site-packages\\keras_hist_graph\\keras_hist_graph.py\u001b[0m in \u001b[0;36mset_plot_history_data\u001b[1;34m(ax, history, which_graph, start_epoch, smooth_factor, xkcd)\u001b[0m\n\u001b[0;32m     21\u001b[0m \u001b[1;33m\u001b[0m\u001b[0m\n\u001b[0;32m     22\u001b[0m     \u001b[1;32mif\u001b[0m \u001b[0mwhich_graph\u001b[0m \u001b[1;33m==\u001b[0m \u001b[1;34m\"acc\"\u001b[0m\u001b[1;33m:\u001b[0m\u001b[1;33m\u001b[0m\u001b[1;33m\u001b[0m\u001b[0m\n\u001b[1;32m---> 23\u001b[1;33m         \u001b[0mtrain\u001b[0m \u001b[1;33m=\u001b[0m \u001b[0msmooth_curve\u001b[0m\u001b[1;33m(\u001b[0m\u001b[0mhistory\u001b[0m\u001b[1;33m.\u001b[0m\u001b[0mhistory\u001b[0m\u001b[1;33m[\u001b[0m\u001b[1;34m\"acc\"\u001b[0m\u001b[1;33m]\u001b[0m\u001b[1;33m,\u001b[0m \u001b[0msmooth_factor\u001b[0m\u001b[1;33m)\u001b[0m\u001b[1;33m\u001b[0m\u001b[1;33m\u001b[0m\u001b[0m\n\u001b[0m\u001b[0;32m     24\u001b[0m         \u001b[0mvalid\u001b[0m \u001b[1;33m=\u001b[0m \u001b[0msmooth_curve\u001b[0m\u001b[1;33m(\u001b[0m\u001b[0mhistory\u001b[0m\u001b[1;33m.\u001b[0m\u001b[0mhistory\u001b[0m\u001b[1;33m[\u001b[0m\u001b[1;34m\"val_acc\"\u001b[0m\u001b[1;33m]\u001b[0m\u001b[1;33m,\u001b[0m \u001b[0msmooth_factor\u001b[0m\u001b[1;33m)\u001b[0m\u001b[1;33m\u001b[0m\u001b[1;33m\u001b[0m\u001b[0m\n\u001b[0;32m     25\u001b[0m \u001b[1;33m\u001b[0m\u001b[0m\n",
      "\u001b[1;31mKeyError\u001b[0m: 'acc'"
     ]
    },
    {
     "data": {
      "image/png": "[encoded data removed]",
      "text/plain": [
       "<Figure size 720x432 with 2 Axes>"
      ]
     },
     "metadata": {
      "needs_background": "light"
     },
     "output_type": "display_data"
    }
   ],
   "source": [
    "#from keras_hist_graph import plot_history\n",
    "#plot_history(history)"
   ]
  },
  {
   "cell_type": "code",
   "execution_count": 12,
   "metadata": {},
   "outputs": [
    {
     "data": {
      "text/html": [
       "<div>\n",
       "<style scoped>\n",
       "    .dataframe tbody tr th:only-of-type {\n",
       "        vertical-align: middle;\n",
       "    }\n",
       "\n",
       "    .dataframe tbody tr th {\n",
       "        vertical-align: top;\n",
       "    }\n",
       "\n",
       "    .dataframe thead th {\n",
       "        text-align: right;\n",
       "    }\n",
       "</style>\n",
       "<table border=\"1\" class=\"dataframe\">\n",
       "  <thead>\n",
       "    <tr style=\"text-align: right;\">\n",
       "      <th></th>\n",
       "      <th>x_d</th>\n",
       "      <th>r_d</th>\n",
       "      <th>y_g</th>\n",
       "      <th>z_g</th>\n",
       "      <th>y_p</th>\n",
       "      <th>z_p</th>\n",
       "      <th>y_o</th>\n",
       "      <th>z_o</th>\n",
       "    </tr>\n",
       "  </thead>\n",
       "  <tbody>\n",
       "    <tr>\n",
       "      <th>388</th>\n",
       "      <td>-0.064920</td>\n",
       "      <td>-1.846211</td>\n",
       "      <td>0.946481</td>\n",
       "      <td>3.103033</td>\n",
       "      <td>0.963581</td>\n",
       "      <td>3.100810</td>\n",
       "      <td>0.017100</td>\n",
       "      <td>-0.002223</td>\n",
       "    </tr>\n",
       "    <tr>\n",
       "      <th>163</th>\n",
       "      <td>-0.434503</td>\n",
       "      <td>0.418053</td>\n",
       "      <td>1.316545</td>\n",
       "      <td>2.795077</td>\n",
       "      <td>1.207499</td>\n",
       "      <td>2.792472</td>\n",
       "      <td>-0.109046</td>\n",
       "      <td>-0.002605</td>\n",
       "    </tr>\n",
       "    <tr>\n",
       "      <th>933</th>\n",
       "      <td>0.889403</td>\n",
       "      <td>0.754237</td>\n",
       "      <td>2.594542</td>\n",
       "      <td>3.673474</td>\n",
       "      <td>1.872999</td>\n",
       "      <td>3.685787</td>\n",
       "      <td>-0.721543</td>\n",
       "      <td>0.012314</td>\n",
       "    </tr>\n",
       "  </tbody>\n",
       "</table>\n",
       "</div>"
      ],
      "text/plain": [
       "          x_d       r_d       y_g       z_g       y_p       z_p       y_o  \\\n",
       "388 -0.064920 -1.846211  0.946481  3.103033  0.963581  3.100810  0.017100   \n",
       "163 -0.434503  0.418053  1.316545  2.795077  1.207499  2.792472 -0.109046   \n",
       "933  0.889403  0.754237  2.594542  3.673474  1.872999  3.685787 -0.721543   \n",
       "\n",
       "          z_o  \n",
       "388 -0.002223  \n",
       "163 -0.002605  \n",
       "933  0.012314  "
      ]
     },
     "execution_count": 12,
     "metadata": {},
     "output_type": "execute_result"
    }
   ],
   "source": [
    "p = pd.DataFrame(model.predict(data.filter(regex='_d').to_numpy()))\n",
    "p.columns = data.filter(regex='_g').columns.str.replace('_g','_p')\n",
    "p.index = data.index\n",
    "data = data.join(p)\n",
    "data['y_o'] = data.y_p - data.y_g  # \"offset\"\n",
    "data['z_o'] = data.z_p - data.z_g \n",
    "data.sample(3)"
   ]
  },
  {
   "cell_type": "code",
   "execution_count": 13,
   "metadata": {},
   "outputs": [
    {
     "data": {
      "text/html": [
       "<div>\n",
       "<style scoped>\n",
       "    .dataframe tbody tr th:only-of-type {\n",
       "        vertical-align: middle;\n",
       "    }\n",
       "\n",
       "    .dataframe tbody tr th {\n",
       "        vertical-align: top;\n",
       "    }\n",
       "\n",
       "    .dataframe thead th {\n",
       "        text-align: right;\n",
       "    }\n",
       "</style>\n",
       "<table border=\"1\" class=\"dataframe\">\n",
       "  <thead>\n",
       "    <tr style=\"text-align: right;\">\n",
       "      <th></th>\n",
       "      <th>x_d</th>\n",
       "      <th>r_d</th>\n",
       "      <th>y_g</th>\n",
       "      <th>z_g</th>\n",
       "      <th>y_p</th>\n",
       "      <th>z_p</th>\n",
       "      <th>y_o</th>\n",
       "      <th>z_o</th>\n",
       "    </tr>\n",
       "  </thead>\n",
       "  <tbody>\n",
       "    <tr>\n",
       "      <th>x_d</th>\n",
       "      <td>1.000000</td>\n",
       "      <td>0.017904</td>\n",
       "      <td>0.009061</td>\n",
       "      <td>0.010432</td>\n",
       "      <td>0.010181</td>\n",
       "      <td>0.020405</td>\n",
       "      <td>0.005221</td>\n",
       "      <td>0.103352</td>\n",
       "    </tr>\n",
       "    <tr>\n",
       "      <th>r_d</th>\n",
       "      <td>0.017904</td>\n",
       "      <td>1.000000</td>\n",
       "      <td>0.002862</td>\n",
       "      <td>-0.032839</td>\n",
       "      <td>0.022443</td>\n",
       "      <td>-0.034384</td>\n",
       "      <td>0.082932</td>\n",
       "      <td>-0.021889</td>\n",
       "    </tr>\n",
       "    <tr>\n",
       "      <th>y_g</th>\n",
       "      <td>0.009061</td>\n",
       "      <td>0.002862</td>\n",
       "      <td>1.000000</td>\n",
       "      <td>0.023878</td>\n",
       "      <td>0.971745</td>\n",
       "      <td>0.037992</td>\n",
       "      <td>-0.065654</td>\n",
       "      <td>0.147978</td>\n",
       "    </tr>\n",
       "    <tr>\n",
       "      <th>z_g</th>\n",
       "      <td>0.010432</td>\n",
       "      <td>-0.032839</td>\n",
       "      <td>0.023878</td>\n",
       "      <td>1.000000</td>\n",
       "      <td>0.033720</td>\n",
       "      <td>0.995246</td>\n",
       "      <td>0.042892</td>\n",
       "      <td>0.139778</td>\n",
       "    </tr>\n",
       "    <tr>\n",
       "      <th>y_p</th>\n",
       "      <td>0.010181</td>\n",
       "      <td>0.022443</td>\n",
       "      <td>0.971745</td>\n",
       "      <td>0.033720</td>\n",
       "      <td>1.000000</td>\n",
       "      <td>0.048707</td>\n",
       "      <td>0.171725</td>\n",
       "      <td>0.158709</td>\n",
       "    </tr>\n",
       "    <tr>\n",
       "      <th>z_p</th>\n",
       "      <td>0.020405</td>\n",
       "      <td>-0.034384</td>\n",
       "      <td>0.037992</td>\n",
       "      <td>0.995246</td>\n",
       "      <td>0.048707</td>\n",
       "      <td>1.000000</td>\n",
       "      <td>0.047344</td>\n",
       "      <td>0.235552</td>\n",
       "    </tr>\n",
       "    <tr>\n",
       "      <th>y_o</th>\n",
       "      <td>0.005221</td>\n",
       "      <td>0.082932</td>\n",
       "      <td>-0.065654</td>\n",
       "      <td>0.042892</td>\n",
       "      <td>0.171725</td>\n",
       "      <td>0.047344</td>\n",
       "      <td>1.000000</td>\n",
       "      <td>0.053326</td>\n",
       "    </tr>\n",
       "    <tr>\n",
       "      <th>z_o</th>\n",
       "      <td>0.103352</td>\n",
       "      <td>-0.021889</td>\n",
       "      <td>0.147978</td>\n",
       "      <td>0.139778</td>\n",
       "      <td>0.158709</td>\n",
       "      <td>0.235552</td>\n",
       "      <td>0.053326</td>\n",
       "      <td>1.000000</td>\n",
       "    </tr>\n",
       "  </tbody>\n",
       "</table>\n",
       "</div>"
      ],
      "text/plain": [
       "          x_d       r_d       y_g       z_g       y_p       z_p       y_o  \\\n",
       "x_d  1.000000  0.017904  0.009061  0.010432  0.010181  0.020405  0.005221   \n",
       "r_d  0.017904  1.000000  0.002862 -0.032839  0.022443 -0.034384  0.082932   \n",
       "y_g  0.009061  0.002862  1.000000  0.023878  0.971745  0.037992 -0.065654   \n",
       "z_g  0.010432 -0.032839  0.023878  1.000000  0.033720  0.995246  0.042892   \n",
       "y_p  0.010181  0.022443  0.971745  0.033720  1.000000  0.048707  0.171725   \n",
       "z_p  0.020405 -0.034384  0.037992  0.995246  0.048707  1.000000  0.047344   \n",
       "y_o  0.005221  0.082932 -0.065654  0.042892  0.171725  0.047344  1.000000   \n",
       "z_o  0.103352 -0.021889  0.147978  0.139778  0.158709  0.235552  0.053326   \n",
       "\n",
       "          z_o  \n",
       "x_d  0.103352  \n",
       "r_d -0.021889  \n",
       "y_g  0.147978  \n",
       "z_g  0.139778  \n",
       "y_p  0.158709  \n",
       "z_p  0.235552  \n",
       "y_o  0.053326  \n",
       "z_o  1.000000  "
      ]
     },
     "execution_count": 13,
     "metadata": {},
     "output_type": "execute_result"
    }
   ],
   "source": [
    "# let's see how we are doing on the correlation\n",
    "data.corr()"
   ]
  },
  {
   "cell_type": "code",
   "execution_count": 14,
   "metadata": {},
   "outputs": [
    {
     "ename": "NameError",
     "evalue": "name 'alt' is not defined",
     "output_type": "error",
     "traceback": [
      "\u001b[1;31m---------------------------------------------------------------------------\u001b[0m",
      "\u001b[1;31mNameError\u001b[0m                                 Traceback (most recent call last)",
      "\u001b[1;32m~\\AppData\\Local\\Temp/ipykernel_11564/1395266656.py\u001b[0m in \u001b[0;36m<module>\u001b[1;34m\u001b[0m\n\u001b[1;32m----> 1\u001b[1;33m alt.Chart(data.sample(1000).reset_index()).mark_point(size=0.1).encode(\n\u001b[0m\u001b[0;32m      2\u001b[0m   \u001b[0mx\u001b[0m\u001b[1;33m=\u001b[0m\u001b[1;34m'x_d'\u001b[0m\u001b[1;33m,\u001b[0m\u001b[1;33m\u001b[0m\u001b[1;33m\u001b[0m\u001b[0m\n\u001b[0;32m      3\u001b[0m   \u001b[0my\u001b[0m\u001b[1;33m=\u001b[0m\u001b[1;34m'y_p'\u001b[0m\u001b[1;33m\u001b[0m\u001b[1;33m\u001b[0m\u001b[0m\n\u001b[0;32m      4\u001b[0m ).interactive()\n",
      "\u001b[1;31mNameError\u001b[0m: name 'alt' is not defined"
     ]
    }
   ],
   "source": [
    "alt.Chart(data.sample(1000).reset_index()).mark_point(size=0.1).encode(\n",
    "  x='x_d',\n",
    "  y='y_p'\n",
    ").interactive()"
   ]
  },
  {
   "cell_type": "code",
   "execution_count": null,
   "metadata": {},
   "outputs": [],
   "source": [
    "alt.Chart(data.sample(1000).reset_index()).mark_point(size=0.1).encode(\n",
    "  x='x_d',\n",
    "  y='y_g'\n",
    ").interactive()"
   ]
  },
  {
   "cell_type": "code",
   "execution_count": null,
   "metadata": {},
   "outputs": [],
   "source": [
    "alt.Chart(data.sample(1000).reset_index()).mark_point(size=0.1).encode(\n",
    "  x='x_d',\n",
    "  y='y_o'\n",
    ").interactive()"
   ]
  },
  {
   "cell_type": "code",
   "execution_count": null,
   "metadata": {},
   "outputs": [],
   "source": [
    "# Interesting is also how the difference depends on p - which is what we correlate\n",
    "\n",
    "alt.Chart(data.sample(1000).reset_index()).mark_point(size=0.1).encode(\n",
    "  x='y_p',\n",
    "  y='y_o'\n",
    ").interactive()"
   ]
  },
  {
   "cell_type": "code",
   "execution_count": null,
   "metadata": {},
   "outputs": [],
   "source": [
    "# that's the actual data on which we maximize the correlation\n",
    "\n",
    "alt.Chart(data.sample(1000).reset_index()).mark_point(size=0.1).encode(\n",
    "  x='y_p',\n",
    "  y='y_g'\n",
    ").interactive()"
   ]
  },
  {
   "cell_type": "code",
   "execution_count": null,
   "metadata": {},
   "outputs": [],
   "source": []
  },
  {
   "cell_type": "code",
   "execution_count": null,
   "metadata": {},
   "outputs": [],
   "source": []
  }
 ],
 "metadata": {
  "kernelspec": {
   "display_name": "Python 3",
   "language": "python",
   "name": "python3"
  },
  "language_info": {
   "codemirror_mode": {
    "name": "ipython",
    "version": 3
   },
   "file_extension": ".py",
   "mimetype": "text/x-python",
   "name": "python",
   "nbconvert_exporter": "python",
   "pygments_lexer": "ipython3",
   "version": "3.7.9"
  }
 },
 "nbformat": 4,
 "nbformat_minor": 2
}
