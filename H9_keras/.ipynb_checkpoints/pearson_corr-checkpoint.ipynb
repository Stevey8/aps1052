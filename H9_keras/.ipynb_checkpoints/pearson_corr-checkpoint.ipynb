{
 "cells": [
  {
   "cell_type": "code",
   "execution_count": 1,
   "metadata": {},
   "outputs": [
    {
     "name": "stderr",
     "output_type": "stream",
     "text": [
      "Using TensorFlow backend.\n"
     ]
    }
   ],
   "source": [
    "%matplotlib inline\n",
    "import matplotlib.pyplot as plt\n",
    "import pandas as pd\n",
    "import tensorflow as tf\n",
    "tf.compat.v1.logging.set_verbosity(tf.compat.v1.logging.ERROR)\n",
    "import numpy as np\n",
    "from keras.layers import Dense\n",
    "from keras.models import Sequential\n",
    "from keras.optimizers import SGD\n",
    "from matplotlib import pyplot\n",
    "from scipy.stats import spearmanr\n",
    "from scipy.stats import pearsonr\n",
    "import keras.backend as K\n",
    "from sklearn.datasets import make_regression\n",
    "from sklearn.preprocessing import StandardScaler\n",
    "import keras"
   ]
  },
  {
   "cell_type": "code",
   "execution_count": 2,
   "metadata": {},
   "outputs": [],
   "source": [
    "def pearson_loss(y_true, y_pred):\n",
    "    \"\"\"Pearson correlation coefficient\"\"\"\n",
    "\n",
    "    x = y_true\n",
    "    y = y_pred\n",
    "    xm, ym = x - K.mean(x), y - K.mean(y)\n",
    "    r_num = K.sum(tf.multiply(xm, ym))\n",
    "    r_den = K.sqrt(tf.multiply(K.sum(K.square(xm)), K.sum(K.square(ym))))\n",
    "    r = r_num / (r_den + K.epsilon())\n",
    "    r = K.maximum(K.minimum(r, 1.0), -1.0)\n",
    "    \n",
    "    return  tf.constant(1.0, dtype=x.dtype) - K.square(r)"
   ]
  },
  {
   "cell_type": "markdown",
   "metadata": {},
   "source": [
    "penalized_pearson_loss is a function that maximizes the pearson correlation coefficient between the predicted values and the labels, while trying to have the same mean and variance.  It is the same as pearson_loss except for the addition of a penalty term (0.01*sqdif):https://archive.md/k5aTF"
   ]
  },
  {
   "cell_type": "code",
   "execution_count": 3,
   "metadata": {},
   "outputs": [],
   "source": [
    "def penalized_pearson_loss(x,y, axis=-2):\n",
    "    \"\"\"Penalized Pearson correlation coefficient\"\"\"\n",
    "    x = tf.convert_to_tensor(x)\n",
    "    y = K.cast(y, x.dtype)\n",
    "    n = tf.cast(tf.shape(x)[axis], x.dtype)\n",
    "    xsum = tf.reduce_sum(x, axis=axis)\n",
    "    ysum = tf.reduce_sum(y, axis=axis)\n",
    "    xmean = xsum / n\n",
    "    ymean = ysum / n\n",
    "    xsqsum = tf.reduce_sum( tf.math.squared_difference(x, xmean), axis=axis)\n",
    "    ysqsum = tf.reduce_sum( tf.math.squared_difference(y, ymean), axis=axis)\n",
    "    cov = tf.reduce_sum( (x - xmean) * (y - ymean), axis=axis)\n",
    "    corr = cov / (tf.sqrt(xsqsum * ysqsum)+ K.epsilon())\n",
    "    sqdif = tf.reduce_sum(tf.math.squared_difference(x, y), axis=axis) / n / tf.sqrt(ysqsum / n)\n",
    "    return tf.convert_to_tensor( K.mean(tf.constant(1.0, dtype=x.dtype) - corr + (0.01 * sqdif)) , dtype=tf.float32 )"
   ]
  },
  {
   "cell_type": "markdown",
   "metadata": {},
   "source": [
    "#version with py_func generates error (apparently it is not applying eagerly in my setup as it is supposed to), \n",
    "#so use the pearson_metric underneath\n",
    "\n",
    "def pearson_metric(y_true, y_pred):\n",
    "    \"\"\"Pearson correlation coefficient\"\"\"\n",
    "    \n",
    "    r = tf.py_function(pearsonr, inp=[y_true, y_pred], Tout=tf.float32)\n",
    "    \n",
    "    return  tf.constant(1.0, dtype=y_true.dtype)  - r"
   ]
  },
  {
   "cell_type": "code",
   "execution_count": 4,
   "metadata": {},
   "outputs": [],
   "source": [
    "def pearson_metric(y_true, y_pred):\n",
    "    \"\"\"Pearson correlation coefficient\"\"\"\n",
    "\n",
    "    x = y_true\n",
    "    y = y_pred\n",
    "    xm, ym = x - K.mean(x), y - K.mean(y)\n",
    "    r_num = K.sum(tf.multiply(xm, ym))\n",
    "    r_den = K.sqrt(tf.multiply(K.sum(K.square(xm)), K.sum(K.square(ym))))\n",
    "    r = r_num / (r_den + K.epsilon())\n",
    "    r = K.maximum(K.minimum(r, 1.0), -1.0)\n",
    "    \n",
    "    return tf.constant(1.0, dtype=x.dtype) - K.square(r)"
   ]
  },
  {
   "cell_type": "code",
   "execution_count": 5,
   "metadata": {},
   "outputs": [],
   "source": [
    "num_features = 20\n",
    "# generate regression dataset\n",
    "X, y = make_regression(n_samples=1000, n_features=num_features, noise=0.1, random_state=1)\n",
    "\n",
    "# split into train and test\n",
    "n_train = 500\n",
    "trainX, testX = X[:n_train, :], X[n_train:, :]\n",
    "trainy, testy = y[:n_train], y[n_train:]\n",
    "\n",
    "# reshape 1d arrays to 2d arrays\n",
    "trainy = trainy.reshape(len(trainy), 1)\n",
    "testy = testy.reshape(len(trainy), 1)\n",
    "\n",
    "# create scaler\n",
    "scaler = StandardScaler()\n",
    "# fit scaler on training dataset\n",
    "scaler.fit(trainy)\n",
    "# transform training dataset\n",
    "trainy = scaler.transform(trainy)\n",
    "# transform test dataset\n",
    "testy = scaler.transform(testy)\n",
    "\n",
    "# fit scaler on training dataset\n",
    "scaler.fit(trainX)\n",
    "# transform training dataset\n",
    "trainX = scaler.transform(trainX)\n",
    "# transform test dataset\n",
    "testX = scaler.transform(testX)"
   ]
  },
  {
   "cell_type": "code",
   "execution_count": 6,
   "metadata": {},
   "outputs": [
    {
     "name": "stdout",
     "output_type": "stream",
     "text": [
      "Train on 500 samples, validate on 500 samples\n",
      "Epoch 1/100\n",
      "500/500 [==============================] - 0s 499us/step - loss: 0.8183 - pearson_metric: 0.8859 - mean_squared_error: 2.7097 - val_loss: 0.4467 - val_pearson_metric: 0.6570 - val_mean_squared_error: 1.7900\n",
      "Epoch 2/100\n",
      "500/500 [==============================] - 0s 42us/step - loss: 0.3605 - pearson_metric: 0.5387 - mean_squared_error: 1.4240 - val_loss: 0.1377 - val_pearson_metric: 0.2437 - val_mean_squared_error: 0.9807\n",
      "Epoch 3/100\n",
      "500/500 [==============================] - 0s 41us/step - loss: 0.1294 - pearson_metric: 0.2288 - mean_squared_error: 0.8747 - val_loss: 0.0792 - val_pearson_metric: 0.1405 - val_mean_squared_error: 1.0514\n",
      "Epoch 4/100\n",
      "500/500 [==============================] - 0s 42us/step - loss: 0.0748 - pearson_metric: 0.1332 - mean_squared_error: 0.9091 - val_loss: 0.0623 - val_pearson_metric: 0.1093 - val_mean_squared_error: 1.1229\n",
      "Epoch 5/100\n",
      "500/500 [==============================] - 0s 43us/step - loss: 0.0638 - pearson_metric: 0.1131 - mean_squared_error: 0.8964 - val_loss: 0.0516 - val_pearson_metric: 0.0897 - val_mean_squared_error: 1.1205\n",
      "Epoch 6/100\n",
      "500/500 [==============================] - 0s 46us/step - loss: 0.0538 - pearson_metric: 0.0948 - mean_squared_error: 0.8904 - val_loss: 0.0468 - val_pearson_metric: 0.0808 - val_mean_squared_error: 1.1283\n",
      "Epoch 7/100\n",
      "500/500 [==============================] - 0s 38us/step - loss: 0.0451 - pearson_metric: 0.0785 - mean_squared_error: 0.8893 - val_loss: 0.0431 - val_pearson_metric: 0.0738 - val_mean_squared_error: 1.1304\n",
      "Epoch 8/100\n",
      "500/500 [==============================] - 0s 42us/step - loss: 0.0438 - pearson_metric: 0.0762 - mean_squared_error: 0.8809 - val_loss: 0.0399 - val_pearson_metric: 0.0678 - val_mean_squared_error: 1.1230\n",
      "Epoch 9/100\n",
      "500/500 [==============================] - 0s 44us/step - loss: 0.0395 - pearson_metric: 0.0679 - mean_squared_error: 0.8729 - val_loss: 0.0376 - val_pearson_metric: 0.0634 - val_mean_squared_error: 1.1159\n",
      "Epoch 10/100\n",
      "500/500 [==============================] - 0s 42us/step - loss: 0.0351 - pearson_metric: 0.0597 - mean_squared_error: 0.8678 - val_loss: 0.0351 - val_pearson_metric: 0.0588 - val_mean_squared_error: 1.1066\n",
      "Epoch 11/100\n",
      "500/500 [==============================] - ETA: 0s - loss: 0.0398 - pearson_metric: 0.0680 - mean_squared_error: 1.021 - 0s 46us/step - loss: 0.0330 - pearson_metric: 0.0557 - mean_squared_error: 0.8556 - val_loss: 0.0335 - val_pearson_metric: 0.0558 - val_mean_squared_error: 1.0888\n",
      "Epoch 12/100\n",
      "500/500 [==============================] - 0s 42us/step - loss: 0.0309 - pearson_metric: 0.0520 - mean_squared_error: 0.8365 - val_loss: 0.0321 - val_pearson_metric: 0.0532 - val_mean_squared_error: 1.0652\n",
      "Epoch 13/100\n",
      "500/500 [==============================] - 0s 40us/step - loss: 0.0298 - pearson_metric: 0.0500 - mean_squared_error: 0.8225 - val_loss: 0.0300 - val_pearson_metric: 0.0493 - val_mean_squared_error: 1.0462\n",
      "Epoch 14/100\n",
      "500/500 [==============================] - 0s 44us/step - loss: 0.0279 - pearson_metric: 0.0463 - mean_squared_error: 0.8054 - val_loss: 0.0285 - val_pearson_metric: 0.0466 - val_mean_squared_error: 1.0246\n",
      "Epoch 15/100\n",
      "500/500 [==============================] - 0s 46us/step - loss: 0.0255 - pearson_metric: 0.0419 - mean_squared_error: 0.7886 - val_loss: 0.0275 - val_pearson_metric: 0.0448 - val_mean_squared_error: 1.0007\n",
      "Epoch 16/100\n",
      "500/500 [==============================] - 0s 44us/step - loss: 0.0242 - pearson_metric: 0.0393 - mean_squared_error: 0.7683 - val_loss: 0.0262 - val_pearson_metric: 0.0426 - val_mean_squared_error: 0.9689\n",
      "Epoch 17/100\n",
      "500/500 [==============================] - 0s 44us/step - loss: 0.0226 - pearson_metric: 0.0365 - mean_squared_error: 0.7453 - val_loss: 0.0250 - val_pearson_metric: 0.0404 - val_mean_squared_error: 0.9458\n",
      "Epoch 18/100\n",
      "500/500 [==============================] - 0s 46us/step - loss: 0.0227 - pearson_metric: 0.0367 - mean_squared_error: 0.7243 - val_loss: 0.0240 - val_pearson_metric: 0.0387 - val_mean_squared_error: 0.9188\n",
      "Epoch 19/100\n",
      "500/500 [==============================] - 0s 42us/step - loss: 0.0208 - pearson_metric: 0.0334 - mean_squared_error: 0.6969 - val_loss: 0.0228 - val_pearson_metric: 0.0364 - val_mean_squared_error: 0.8820\n",
      "Epoch 20/100\n",
      "500/500 [==============================] - 0s 48us/step - loss: 0.0196 - pearson_metric: 0.0313 - mean_squared_error: 0.6709 - val_loss: 0.0218 - val_pearson_metric: 0.0348 - val_mean_squared_error: 0.8478\n",
      "Epoch 21/100\n",
      "500/500 [==============================] - 0s 44us/step - loss: 0.0179 - pearson_metric: 0.0282 - mean_squared_error: 0.6432 - val_loss: 0.0210 - val_pearson_metric: 0.0336 - val_mean_squared_error: 0.8123\n",
      "Epoch 22/100\n",
      "500/500 [==============================] - 0s 44us/step - loss: 0.0170 - pearson_metric: 0.0267 - mean_squared_error: 0.6180 - val_loss: 0.0202 - val_pearson_metric: 0.0322 - val_mean_squared_error: 0.7821\n",
      "Epoch 23/100\n",
      "500/500 [==============================] - 0s 42us/step - loss: 0.0162 - pearson_metric: 0.0255 - mean_squared_error: 0.5959 - val_loss: 0.0197 - val_pearson_metric: 0.0315 - val_mean_squared_error: 0.7498\n",
      "Epoch 24/100\n",
      "500/500 [==============================] - 0s 44us/step - loss: 0.0162 - pearson_metric: 0.0255 - mean_squared_error: 0.5688 - val_loss: 0.0188 - val_pearson_metric: 0.0300 - val_mean_squared_error: 0.7153\n",
      "Epoch 25/100\n",
      "500/500 [==============================] - 0s 46us/step - loss: 0.0159 - pearson_metric: 0.0251 - mean_squared_error: 0.5404 - val_loss: 0.0182 - val_pearson_metric: 0.0291 - val_mean_squared_error: 0.6793\n",
      "Epoch 26/100\n",
      "500/500 [==============================] - 0s 42us/step - loss: 0.0150 - pearson_metric: 0.0237 - mean_squared_error: 0.5128 - val_loss: 0.0175 - val_pearson_metric: 0.0280 - val_mean_squared_error: 0.6448\n",
      "Epoch 27/100\n",
      "500/500 [==============================] - 0s 42us/step - loss: 0.0137 - pearson_metric: 0.0214 - mean_squared_error: 0.4887 - val_loss: 0.0171 - val_pearson_metric: 0.0275 - val_mean_squared_error: 0.6135\n",
      "Epoch 28/100\n",
      "500/500 [==============================] - 0s 48us/step - loss: 0.0134 - pearson_metric: 0.0209 - mean_squared_error: 0.4650 - val_loss: 0.0164 - val_pearson_metric: 0.0262 - val_mean_squared_error: 0.5829\n",
      "Epoch 29/100\n",
      "500/500 [==============================] - 0s 42us/step - loss: 0.0135 - pearson_metric: 0.0214 - mean_squared_error: 0.4401 - val_loss: 0.0159 - val_pearson_metric: 0.0255 - val_mean_squared_error: 0.5527\n",
      "Epoch 30/100\n",
      "500/500 [==============================] - 0s 44us/step - loss: 0.0123 - pearson_metric: 0.0194 - mean_squared_error: 0.4136 - val_loss: 0.0155 - val_pearson_metric: 0.0251 - val_mean_squared_error: 0.5198\n",
      "Epoch 31/100\n",
      "500/500 [==============================] - 0s 46us/step - loss: 0.0123 - pearson_metric: 0.0195 - mean_squared_error: 0.3928 - val_loss: 0.0150 - val_pearson_metric: 0.0244 - val_mean_squared_error: 0.4897\n",
      "Epoch 32/100\n",
      "500/500 [==============================] - 0s 44us/step - loss: 0.0114 - pearson_metric: 0.0180 - mean_squared_error: 0.3689 - val_loss: 0.0144 - val_pearson_metric: 0.0234 - val_mean_squared_error: 0.4619\n",
      "Epoch 33/100\n",
      "500/500 [==============================] - 0s 50us/step - loss: 0.0107 - pearson_metric: 0.0169 - mean_squared_error: 0.3470 - val_loss: 0.0140 - val_pearson_metric: 0.0230 - val_mean_squared_error: 0.4345\n",
      "Epoch 34/100\n",
      "500/500 [==============================] - 0s 44us/step - loss: 0.0101 - pearson_metric: 0.0158 - mean_squared_error: 0.3269 - val_loss: 0.0137 - val_pearson_metric: 0.0225 - val_mean_squared_error: 0.4099\n",
      "Epoch 35/100\n",
      "500/500 [==============================] - 0s 46us/step - loss: 0.0102 - pearson_metric: 0.0163 - mean_squared_error: 0.3059 - val_loss: 0.0132 - val_pearson_metric: 0.0218 - val_mean_squared_error: 0.3833\n",
      "Epoch 36/100\n",
      "500/500 [==============================] - 0s 44us/step - loss: 0.0095 - pearson_metric: 0.0151 - mean_squared_error: 0.2858 - val_loss: 0.0128 - val_pearson_metric: 0.0213 - val_mean_squared_error: 0.3596\n",
      "Epoch 37/100\n",
      "500/500 [==============================] - 0s 46us/step - loss: 0.0091 - pearson_metric: 0.0145 - mean_squared_error: 0.2660 - val_loss: 0.0125 - val_pearson_metric: 0.0210 - val_mean_squared_error: 0.3333\n"
     ]
    },
    {
     "name": "stdout",
     "output_type": "stream",
     "text": [
      "Epoch 38/100\n",
      "500/500 [==============================] - 0s 46us/step - loss: 0.0093 - pearson_metric: 0.0150 - mean_squared_error: 0.2465 - val_loss: 0.0120 - val_pearson_metric: 0.0201 - val_mean_squared_error: 0.3112\n",
      "Epoch 39/100\n",
      "500/500 [==============================] - 0s 42us/step - loss: 0.0086 - pearson_metric: 0.0139 - mean_squared_error: 0.2311 - val_loss: 0.0117 - val_pearson_metric: 0.0197 - val_mean_squared_error: 0.2900\n",
      "Epoch 40/100\n",
      "500/500 [==============================] - 0s 46us/step - loss: 0.0084 - pearson_metric: 0.0138 - mean_squared_error: 0.2140 - val_loss: 0.0113 - val_pearson_metric: 0.0192 - val_mean_squared_error: 0.2679\n",
      "Epoch 41/100\n",
      "500/500 [==============================] - 0s 48us/step - loss: 0.0087 - pearson_metric: 0.0145 - mean_squared_error: 0.1977 - val_loss: 0.0109 - val_pearson_metric: 0.0185 - val_mean_squared_error: 0.2497\n",
      "Epoch 42/100\n",
      "500/500 [==============================] - 0s 46us/step - loss: 0.0077 - pearson_metric: 0.0126 - mean_squared_error: 0.1839 - val_loss: 0.0106 - val_pearson_metric: 0.0182 - val_mean_squared_error: 0.2328\n",
      "Epoch 43/100\n",
      "500/500 [==============================] - 0s 44us/step - loss: 0.0073 - pearson_metric: 0.0120 - mean_squared_error: 0.1707 - val_loss: 0.0104 - val_pearson_metric: 0.0179 - val_mean_squared_error: 0.2168\n",
      "Epoch 44/100\n",
      "500/500 [==============================] - 0s 44us/step - loss: 0.0071 - pearson_metric: 0.0118 - mean_squared_error: 0.1580 - val_loss: 0.0101 - val_pearson_metric: 0.0174 - val_mean_squared_error: 0.2016\n",
      "Epoch 45/100\n",
      "500/500 [==============================] - 0s 48us/step - loss: 0.0068 - pearson_metric: 0.0114 - mean_squared_error: 0.1463 - val_loss: 0.0097 - val_pearson_metric: 0.0169 - val_mean_squared_error: 0.1854\n",
      "Epoch 46/100\n",
      "500/500 [==============================] - 0s 46us/step - loss: 0.0064 - pearson_metric: 0.0108 - mean_squared_error: 0.1346 - val_loss: 0.0094 - val_pearson_metric: 0.0165 - val_mean_squared_error: 0.1706\n",
      "Epoch 47/100\n",
      "500/500 [==============================] - 0s 46us/step - loss: 0.0063 - pearson_metric: 0.0106 - mean_squared_error: 0.1241 - val_loss: 0.0092 - val_pearson_metric: 0.0162 - val_mean_squared_error: 0.1573\n",
      "Epoch 48/100\n",
      "500/500 [==============================] - 0s 42us/step - loss: 0.0062 - pearson_metric: 0.0106 - mean_squared_error: 0.1143 - val_loss: 0.0089 - val_pearson_metric: 0.0158 - val_mean_squared_error: 0.1453\n",
      "Epoch 49/100\n",
      "500/500 [==============================] - 0s 42us/step - loss: 0.0062 - pearson_metric: 0.0108 - mean_squared_error: 0.1046 - val_loss: 0.0086 - val_pearson_metric: 0.0154 - val_mean_squared_error: 0.1338\n",
      "Epoch 50/100\n",
      "500/500 [==============================] - 0s 42us/step - loss: 0.0062 - pearson_metric: 0.0107 - mean_squared_error: 0.0968 - val_loss: 0.0083 - val_pearson_metric: 0.0148 - val_mean_squared_error: 0.1243\n",
      "Epoch 51/100\n",
      "500/500 [==============================] - 0s 42us/step - loss: 0.0059 - pearson_metric: 0.0103 - mean_squared_error: 0.0888 - val_loss: 0.0080 - val_pearson_metric: 0.0144 - val_mean_squared_error: 0.1146\n",
      "Epoch 52/100\n",
      "500/500 [==============================] - 0s 42us/step - loss: 0.0054 - pearson_metric: 0.0095 - mean_squared_error: 0.0814 - val_loss: 0.0078 - val_pearson_metric: 0.0140 - val_mean_squared_error: 0.1045\n",
      "Epoch 53/100\n",
      "500/500 [==============================] - 0s 40us/step - loss: 0.0053 - pearson_metric: 0.0094 - mean_squared_error: 0.0746 - val_loss: 0.0076 - val_pearson_metric: 0.0137 - val_mean_squared_error: 0.0960\n",
      "Epoch 54/100\n",
      "500/500 [==============================] - 0s 42us/step - loss: 0.0053 - pearson_metric: 0.0094 - mean_squared_error: 0.0670 - val_loss: 0.0074 - val_pearson_metric: 0.0135 - val_mean_squared_error: 0.0866\n",
      "Epoch 55/100\n",
      "500/500 [==============================] - 0s 42us/step - loss: 0.0048 - pearson_metric: 0.0086 - mean_squared_error: 0.0614 - val_loss: 0.0072 - val_pearson_metric: 0.0131 - val_mean_squared_error: 0.0802\n",
      "Epoch 56/100\n",
      "500/500 [==============================] - 0s 40us/step - loss: 0.0048 - pearson_metric: 0.0086 - mean_squared_error: 0.0569 - val_loss: 0.0069 - val_pearson_metric: 0.0126 - val_mean_squared_error: 0.0747\n",
      "Epoch 57/100\n",
      "500/500 [==============================] - 0s 42us/step - loss: 0.0046 - pearson_metric: 0.0083 - mean_squared_error: 0.0521 - val_loss: 0.0067 - val_pearson_metric: 0.0124 - val_mean_squared_error: 0.0684\n",
      "Epoch 58/100\n",
      "500/500 [==============================] - 0s 44us/step - loss: 0.0045 - pearson_metric: 0.0082 - mean_squared_error: 0.0474 - val_loss: 0.0065 - val_pearson_metric: 0.0120 - val_mean_squared_error: 0.0618\n",
      "Epoch 59/100\n",
      "500/500 [==============================] - 0s 40us/step - loss: 0.0044 - pearson_metric: 0.0079 - mean_squared_error: 0.0425 - val_loss: 0.0062 - val_pearson_metric: 0.0116 - val_mean_squared_error: 0.0567\n",
      "Epoch 60/100\n",
      "500/500 [==============================] - 0s 44us/step - loss: 0.0041 - pearson_metric: 0.0075 - mean_squared_error: 0.0392 - val_loss: 0.0061 - val_pearson_metric: 0.0113 - val_mean_squared_error: 0.0529\n",
      "Epoch 61/100\n",
      "500/500 [==============================] - 0s 42us/step - loss: 0.0041 - pearson_metric: 0.0075 - mean_squared_error: 0.0362 - val_loss: 0.0059 - val_pearson_metric: 0.0109 - val_mean_squared_error: 0.0480\n",
      "Epoch 62/100\n",
      "500/500 [==============================] - 0s 40us/step - loss: 0.0037 - pearson_metric: 0.0068 - mean_squared_error: 0.0325 - val_loss: 0.0058 - val_pearson_metric: 0.0109 - val_mean_squared_error: 0.0433\n",
      "Epoch 63/100\n",
      "500/500 [==============================] - 0s 42us/step - loss: 0.0036 - pearson_metric: 0.0067 - mean_squared_error: 0.0289 - val_loss: 0.0056 - val_pearson_metric: 0.0105 - val_mean_squared_error: 0.0398\n",
      "Epoch 64/100\n",
      "500/500 [==============================] - 0s 44us/step - loss: 0.0037 - pearson_metric: 0.0069 - mean_squared_error: 0.0259 - val_loss: 0.0054 - val_pearson_metric: 0.0103 - val_mean_squared_error: 0.0362\n",
      "Epoch 65/100\n",
      "500/500 [==============================] - 0s 42us/step - loss: 0.0035 - pearson_metric: 0.0065 - mean_squared_error: 0.0244 - val_loss: 0.0053 - val_pearson_metric: 0.0100 - val_mean_squared_error: 0.0340\n",
      "Epoch 66/100\n",
      "500/500 [==============================] - 0s 42us/step - loss: 0.0034 - pearson_metric: 0.0064 - mean_squared_error: 0.0229 - val_loss: 0.0051 - val_pearson_metric: 0.0097 - val_mean_squared_error: 0.0309\n",
      "Epoch 67/100\n",
      "500/500 [==============================] - 0s 42us/step - loss: 0.0032 - pearson_metric: 0.0060 - mean_squared_error: 0.0196 - val_loss: 0.0050 - val_pearson_metric: 0.0095 - val_mean_squared_error: 0.0280\n",
      "Epoch 68/100\n",
      "500/500 [==============================] - 0s 42us/step - loss: 0.0032 - pearson_metric: 0.0060 - mean_squared_error: 0.0178 - val_loss: 0.0048 - val_pearson_metric: 0.0091 - val_mean_squared_error: 0.0257\n",
      "Epoch 69/100\n",
      "500/500 [==============================] - 0s 42us/step - loss: 0.0030 - pearson_metric: 0.0056 - mean_squared_error: 0.0166 - val_loss: 0.0046 - val_pearson_metric: 0.0088 - val_mean_squared_error: 0.0243\n",
      "Epoch 70/100\n",
      "500/500 [==============================] - 0s 42us/step - loss: 0.0031 - pearson_metric: 0.0059 - mean_squared_error: 0.0158 - val_loss: 0.0045 - val_pearson_metric: 0.0086 - val_mean_squared_error: 0.0227\n",
      "Epoch 71/100\n",
      "500/500 [==============================] - 0s 40us/step - loss: 0.0029 - pearson_metric: 0.0055 - mean_squared_error: 0.0151 - val_loss: 0.0044 - val_pearson_metric: 0.0084 - val_mean_squared_error: 0.0209\n",
      "Epoch 72/100\n",
      "500/500 [==============================] - 0s 42us/step - loss: 0.0027 - pearson_metric: 0.0052 - mean_squared_error: 0.0131 - val_loss: 0.0041 - val_pearson_metric: 0.0079 - val_mean_squared_error: 0.0186\n",
      "Epoch 73/100\n",
      "500/500 [==============================] - 0s 44us/step - loss: 0.0026 - pearson_metric: 0.0050 - mean_squared_error: 0.0121 - val_loss: 0.0041 - val_pearson_metric: 0.0078 - val_mean_squared_error: 0.0177\n",
      "Epoch 74/100\n",
      "500/500 [==============================] - 0s 42us/step - loss: 0.0027 - pearson_metric: 0.0052 - mean_squared_error: 0.0113 - val_loss: 0.0039 - val_pearson_metric: 0.0075 - val_mean_squared_error: 0.0160\n",
      "Epoch 75/100\n"
     ]
    },
    {
     "name": "stdout",
     "output_type": "stream",
     "text": [
      "500/500 [==============================] - 0s 40us/step - loss: 0.0026 - pearson_metric: 0.0051 - mean_squared_error: 0.0098 - val_loss: 0.0038 - val_pearson_metric: 0.0074 - val_mean_squared_error: 0.0149\n",
      "Epoch 76/100\n",
      "500/500 [==============================] - 0s 42us/step - loss: 0.0026 - pearson_metric: 0.0049 - mean_squared_error: 0.0088 - val_loss: 0.0037 - val_pearson_metric: 0.0071 - val_mean_squared_error: 0.0135\n",
      "Epoch 77/100\n",
      "500/500 [==============================] - 0s 40us/step - loss: 0.0026 - pearson_metric: 0.0049 - mean_squared_error: 0.0084 - val_loss: 0.0036 - val_pearson_metric: 0.0069 - val_mean_squared_error: 0.0132\n",
      "Epoch 78/100\n",
      "500/500 [==============================] - 0s 42us/step - loss: 0.0023 - pearson_metric: 0.0043 - mean_squared_error: 0.0079 - val_loss: 0.0034 - val_pearson_metric: 0.0067 - val_mean_squared_error: 0.0119\n",
      "Epoch 79/100\n",
      "500/500 [==============================] - 0s 42us/step - loss: 0.0022 - pearson_metric: 0.0042 - mean_squared_error: 0.0079 - val_loss: 0.0033 - val_pearson_metric: 0.0065 - val_mean_squared_error: 0.0121\n",
      "Epoch 80/100\n",
      "500/500 [==============================] - 0s 42us/step - loss: 0.0021 - pearson_metric: 0.0040 - mean_squared_error: 0.0071 - val_loss: 0.0032 - val_pearson_metric: 0.0062 - val_mean_squared_error: 0.0107\n",
      "Epoch 81/100\n",
      "500/500 [==============================] - 0s 40us/step - loss: 0.0021 - pearson_metric: 0.0041 - mean_squared_error: 0.0069 - val_loss: 0.0031 - val_pearson_metric: 0.0061 - val_mean_squared_error: 0.0106\n",
      "Epoch 82/100\n",
      "500/500 [==============================] - 0s 40us/step - loss: 0.0020 - pearson_metric: 0.0040 - mean_squared_error: 0.0065 - val_loss: 0.0031 - val_pearson_metric: 0.0060 - val_mean_squared_error: 0.0101\n",
      "Epoch 83/100\n",
      "500/500 [==============================] - 0s 42us/step - loss: 0.0019 - pearson_metric: 0.0037 - mean_squared_error: 0.0059 - val_loss: 0.0030 - val_pearson_metric: 0.0058 - val_mean_squared_error: 0.0093\n",
      "Epoch 84/100\n",
      "500/500 [==============================] - 0s 40us/step - loss: 0.0020 - pearson_metric: 0.0038 - mean_squared_error: 0.0058 - val_loss: 0.0029 - val_pearson_metric: 0.0056 - val_mean_squared_error: 0.0089\n",
      "Epoch 85/100\n",
      "500/500 [==============================] - 0s 40us/step - loss: 0.0018 - pearson_metric: 0.0036 - mean_squared_error: 0.0053 - val_loss: 0.0028 - val_pearson_metric: 0.0054 - val_mean_squared_error: 0.0084\n",
      "Epoch 86/100\n",
      "500/500 [==============================] - 0s 42us/step - loss: 0.0019 - pearson_metric: 0.0036 - mean_squared_error: 0.0052 - val_loss: 0.0027 - val_pearson_metric: 0.0053 - val_mean_squared_error: 0.0082\n",
      "Epoch 87/100\n",
      "500/500 [==============================] - 0s 42us/step - loss: 0.0018 - pearson_metric: 0.0035 - mean_squared_error: 0.0053 - val_loss: 0.0026 - val_pearson_metric: 0.0051 - val_mean_squared_error: 0.0084\n",
      "Epoch 88/100\n",
      "500/500 [==============================] - 0s 40us/step - loss: 0.0018 - pearson_metric: 0.0034 - mean_squared_error: 0.0053 - val_loss: 0.0026 - val_pearson_metric: 0.0050 - val_mean_squared_error: 0.0079\n",
      "Epoch 89/100\n",
      "500/500 [==============================] - 0s 42us/step - loss: 0.0016 - pearson_metric: 0.0032 - mean_squared_error: 0.0047 - val_loss: 0.0025 - val_pearson_metric: 0.0048 - val_mean_squared_error: 0.0074\n",
      "Epoch 90/100\n",
      "500/500 [==============================] - 0s 44us/step - loss: 0.0016 - pearson_metric: 0.0032 - mean_squared_error: 0.0049 - val_loss: 0.0025 - val_pearson_metric: 0.0048 - val_mean_squared_error: 0.0080\n",
      "Epoch 91/100\n",
      "500/500 [==============================] - 0s 40us/step - loss: 0.0016 - pearson_metric: 0.0031 - mean_squared_error: 0.0052 - val_loss: 0.0023 - val_pearson_metric: 0.0045 - val_mean_squared_error: 0.0073\n",
      "Epoch 92/100\n",
      "500/500 [==============================] - 0s 42us/step - loss: 0.0016 - pearson_metric: 0.0031 - mean_squared_error: 0.0043 - val_loss: 0.0023 - val_pearson_metric: 0.0044 - val_mean_squared_error: 0.0066\n",
      "Epoch 93/100\n",
      "500/500 [==============================] - 0s 42us/step - loss: 0.0015 - pearson_metric: 0.0030 - mean_squared_error: 0.0043 - val_loss: 0.0023 - val_pearson_metric: 0.0045 - val_mean_squared_error: 0.0071\n",
      "Epoch 94/100\n",
      "500/500 [==============================] - 0s 42us/step - loss: 0.0015 - pearson_metric: 0.0028 - mean_squared_error: 0.0041 - val_loss: 0.0022 - val_pearson_metric: 0.0042 - val_mean_squared_error: 0.0064\n",
      "Epoch 95/100\n",
      "500/500 [==============================] - 0s 42us/step - loss: 0.0014 - pearson_metric: 0.0027 - mean_squared_error: 0.0040 - val_loss: 0.0021 - val_pearson_metric: 0.0041 - val_mean_squared_error: 0.0065\n",
      "Epoch 96/100\n",
      "500/500 [==============================] - 0s 42us/step - loss: 0.0014 - pearson_metric: 0.0026 - mean_squared_error: 0.0042 - val_loss: 0.0021 - val_pearson_metric: 0.0040 - val_mean_squared_error: 0.0064\n",
      "Epoch 97/100\n",
      "500/500 [==============================] - 0s 42us/step - loss: 0.0015 - pearson_metric: 0.0029 - mean_squared_error: 0.0040 - val_loss: 0.0020 - val_pearson_metric: 0.0039 - val_mean_squared_error: 0.0063\n",
      "Epoch 98/100\n",
      "500/500 [==============================] - 0s 40us/step - loss: 0.0014 - pearson_metric: 0.0027 - mean_squared_error: 0.0041 - val_loss: 0.0020 - val_pearson_metric: 0.0038 - val_mean_squared_error: 0.0066\n",
      "Epoch 99/100\n",
      "500/500 [==============================] - 0s 42us/step - loss: 0.0013 - pearson_metric: 0.0025 - mean_squared_error: 0.0044 - val_loss: 0.0019 - val_pearson_metric: 0.0037 - val_mean_squared_error: 0.0065\n",
      "Epoch 100/100\n",
      "500/500 [==============================] - 0s 42us/step - loss: 0.0013 - pearson_metric: 0.0025 - mean_squared_error: 0.0042 - val_loss: 0.0019 - val_pearson_metric: 0.0037 - val_mean_squared_error: 0.0062\n",
      "500/500 [==============================] - 0s 14us/step\n",
      "500/500 [==============================] - 0s 16us/step\n",
      "Train loss: 0.001, Test loss: 0.002\n",
      "Train metric: 0.002, Test metric: 0.004\n"
     ]
    },
    {
     "data": {
      "image/png": "[encoded data removed]",
      "text/plain": [
       "<Figure size 432x288 with 1 Axes>"
      ]
     },
     "metadata": {
      "needs_background": "light"
     },
     "output_type": "display_data"
    }
   ],
   "source": [
    "# mlp with scaled inputs outputs on the regression problem using custom loss and custom metric\n",
    "# define model\n",
    "model = Sequential()\n",
    "model.add(Dense(25, input_dim=20, activation='relu', kernel_initializer='he_uniform'))\n",
    "model.add(Dense(1, activation='linear'))\n",
    "# compile model using as loss: penalized_pearson_loss; as metric: pearson_metric and kears.losses.mean_squared_error\n",
    "model.compile(loss=penalized_pearson_loss, optimizer=SGD(lr=0.01, momentum=0.9), metrics=[pearson_metric, keras.losses.mean_squared_error])\n",
    "#model.compile(loss='mean_squared_error', optimizer=SGD(lr=0.01, momentum=0.9))\n",
    "# fit model\n",
    "history = model.fit(trainX, trainy, validation_data=(testX, testy), epochs=100, verbose=1)\n",
    "# evaluate the model\n",
    "train_e = model.evaluate(trainX, trainy, verbose=1)\n",
    "test_e = model.evaluate(testX, testy, verbose=1)\n",
    "print('Train loss: %.3f, Test loss: %.3f' % (train_e[0], test_e[0])) #when using custom loss and custom metric\n",
    "print('Train metric: %.3f, Test metric: %.3f' % (train_e[1], test_e[1])) #when using custom loss and custom metric\n",
    "#print('Train loss: %.3f, Test loss: %.3f' % (train_e, test_e)) \n",
    "#plot loss during training\n",
    "plt.title('Loss / Error')\n",
    "plt.plot(history.history['loss'], label='train')\n",
    "plt.plot(history.history['val_loss'], label='test')\n",
    "plt.legend()\n",
    "plt.show()"
   ]
  },
  {
   "cell_type": "markdown",
   "metadata": {},
   "source": [
    "Since the spearman_loss function for tensorflow 1.5 in spearman_corr_incomplete.ipynb cannot be used without a gradient, you have three options. "
   ]
  },
  {
   "cell_type": "markdown",
   "metadata": {},
   "source": [
    "1. You can program a gradient for the function."
   ]
  },
  {
   "cell_type": "markdown",
   "metadata": {},
   "source": [
    "2. You can use the spearman_loss function for tensorflow 2.6 in spearman_corr_TSFL2.ipynb (but we have not tested this)."
   ]
  },
  {
   "cell_type": "markdown",
   "metadata": {},
   "source": [
    "3. You can use the penalized_pearson_loss function instead of the spearman_loss function (as we have done here)."
   ]
  },
  {
   "cell_type": "code",
   "execution_count": 7,
   "metadata": {},
   "outputs": [
    {
     "data": {
      "text/html": [
       "<div>\n",
       "<style scoped>\n",
       "    .dataframe tbody tr th:only-of-type {\n",
       "        vertical-align: middle;\n",
       "    }\n",
       "\n",
       "    .dataframe tbody tr th {\n",
       "        vertical-align: top;\n",
       "    }\n",
       "\n",
       "    .dataframe thead th {\n",
       "        text-align: right;\n",
       "    }\n",
       "</style>\n",
       "<table border=\"1\" class=\"dataframe\">\n",
       "  <thead>\n",
       "    <tr style=\"text-align: right;\">\n",
       "      <th></th>\n",
       "      <th>val_loss</th>\n",
       "      <th>val_pearson_metric</th>\n",
       "      <th>val_mean_squared_error</th>\n",
       "      <th>loss</th>\n",
       "      <th>pearson_metric</th>\n",
       "      <th>mean_squared_error</th>\n",
       "    </tr>\n",
       "  </thead>\n",
       "  <tbody>\n",
       "    <tr>\n",
       "      <th>0</th>\n",
       "      <td>0.446695</td>\n",
       "      <td>0.656963</td>\n",
       "      <td>1.790008</td>\n",
       "      <td>0.818347</td>\n",
       "      <td>0.885904</td>\n",
       "      <td>2.709704</td>\n",
       "    </tr>\n",
       "    <tr>\n",
       "      <th>1</th>\n",
       "      <td>0.137665</td>\n",
       "      <td>0.243717</td>\n",
       "      <td>0.980715</td>\n",
       "      <td>0.360480</td>\n",
       "      <td>0.538731</td>\n",
       "      <td>1.424047</td>\n",
       "    </tr>\n",
       "    <tr>\n",
       "      <th>2</th>\n",
       "      <td>0.079171</td>\n",
       "      <td>0.140540</td>\n",
       "      <td>1.051389</td>\n",
       "      <td>0.129432</td>\n",
       "      <td>0.228823</td>\n",
       "      <td>0.874723</td>\n",
       "    </tr>\n",
       "  </tbody>\n",
       "</table>\n",
       "</div>"
      ],
      "text/plain": [
       "   val_loss  val_pearson_metric  val_mean_squared_error      loss  \\\n",
       "0  0.446695            0.656963                1.790008  0.818347   \n",
       "1  0.137665            0.243717                0.980715  0.360480   \n",
       "2  0.079171            0.140540                1.051389  0.129432   \n",
       "\n",
       "   pearson_metric  mean_squared_error  \n",
       "0        0.885904            2.709704  \n",
       "1        0.538731            1.424047  \n",
       "2        0.228823            0.874723  "
      ]
     },
     "execution_count": 7,
     "metadata": {},
     "output_type": "execute_result"
    }
   ],
   "source": [
    "df = pd.DataFrame(history.history)\n",
    "df.head(3)"
   ]
  },
  {
   "cell_type": "code",
   "execution_count": 8,
   "metadata": {},
   "outputs": [
    {
     "data": {
      "text/plain": [
       "<AxesSubplot:>"
      ]
     },
     "execution_count": 8,
     "metadata": {},
     "output_type": "execute_result"
    },
    {
     "data": {
      "image/png": "[encoded data removed]",
      "text/plain": [
       "<Figure size 432x288 with 1 Axes>"
      ]
     },
     "metadata": {
      "needs_background": "light"
     },
     "output_type": "display_data"
    }
   ],
   "source": [
    "df.plot()"
   ]
  },
  {
   "cell_type": "markdown",
   "metadata": {},
   "source": [
    "When penalized_pearson is used as loss (as it is used here), it minimizes both direction differences and distance differences.  But it does so at different rates: it minimizes direction differences quickly and distance differences more slowly. This is why, when using the penalized_pearson_loss, the mse_metric converges more slowly. But the important thing is that it (MSE, distance) it actually converges after about 70 epochs."
   ]
  },
  {
   "cell_type": "markdown",
   "metadata": {},
   "source": [
    "To see more about the comparative performance of the penalized_pearson_loss, see pearson_corr_TSFL2_EXTRADOCUMENTATION.ipynb (running the ipynb requires tensorflow 2, but you can see the graphs which show that the penalized_pearson_loss minimizes well while dealing with noisy data.) "
   ]
  },
  {
   "cell_type": "markdown",
   "metadata": {},
   "source": [
    "Even though the penalized_pearson_loss is linear, you can still use it for non linear models. It has the advantage that it is easy to interpret, unlike MSE or a negative value of R-squared."
   ]
  }
 ],
 "metadata": {
  "kernelspec": {
   "display_name": "Python 3",
   "language": "python",
   "name": "python3"
  },
  "language_info": {
   "codemirror_mode": {
    "name": "ipython",
    "version": 3
   },
   "file_extension": ".py",
   "mimetype": "text/x-python",
   "name": "python",
   "nbconvert_exporter": "python",
   "pygments_lexer": "ipython3",
   "version": "3.7.9"
  }
 },
 "nbformat": 4,
 "nbformat_minor": 2
}
