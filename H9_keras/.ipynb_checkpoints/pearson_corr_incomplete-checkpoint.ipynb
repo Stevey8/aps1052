{
 "cells": [
  {
   "cell_type": "markdown",
   "metadata": {},
   "source": [
    "Fill in the missing code (#####) to use a custom loss and custom metric function.  Here you learn to use the pearson_loss function, the penalized_pearson_loss function and the pearson_metric function. See important comment at the end."
   ]
  },
  {
   "cell_type": "code",
   "execution_count": 1,
   "metadata": {},
   "outputs": [
    {
     "name": "stderr",
     "output_type": "stream",
     "text": [
      "Using TensorFlow backend.\n"
     ]
    }
   ],
   "source": [
    "%matplotlib inline\n",
    "import matplotlib.pyplot as plt\n",
    "import pandas as pd\n",
    "import tensorflow as tf\n",
    "tf.compat.v1.logging.set_verbosity(tf.compat.v1.logging.ERROR)\n",
    "import numpy as np\n",
    "from keras.layers import Dense\n",
    "from keras.models import Sequential\n",
    "from keras.optimizers import SGD\n",
    "from matplotlib import pyplot\n",
    "from scipy.stats import spearmanr\n",
    "from scipy.stats import pearsonr\n",
    "import keras.backend as K\n",
    "from sklearn.datasets import make_regression\n",
    "from sklearn.preprocessing import StandardScaler\n",
    "import keras"
   ]
  },
  {
   "cell_type": "markdown",
   "metadata": {},
   "source": [
    "Here we program the pearson_loss function using tensors"
   ]
  },
  {
   "cell_type": "code",
   "execution_count": 2,
   "metadata": {},
   "outputs": [],
   "source": [
    "def pearson_loss(y_true, y_pred):\n",
    "    \"\"\"Pearson correlation coefficient\"\"\"\n",
    "\n",
    "    x = y_true\n",
    "    y = y_pred\n",
    "    xm, ym = x - K.mean(x), y - K.mean(y)\n",
    "    r_num = K.sum(tf.multiply(xm, ym))\n",
    "    r_den = K.sqrt(tf.multiply(K.sum(K.square(xm)), K.sum(K.square(ym))))\n",
    "    r = r_num / (r_den + K.epsilon())\n",
    "    r = K.maximum(K.minimum(r, 1.0), -1.0)\n",
    "    \n",
    "    return  tf.constant(1.0, dtype=x.dtype) - K.square(r)"
   ]
  },
  {
   "cell_type": "markdown",
   "metadata": {},
   "source": [
    "Next we program another version, a penalized_pearson_loss."
   ]
  },
  {
   "cell_type": "markdown",
   "metadata": {},
   "source": [
    "The penalized_pearson_loss maximizes the pearson correlation coefficient between the predicted values and the labels, while trying to have the same mean and variance.  It is the same as pearson_loss except for the addition of a penalty term (0.01*sqdif) so it deals with  noise better:https://archive.md/k5aTF"
   ]
  },
  {
   "cell_type": "code",
   "execution_count": 3,
   "metadata": {},
   "outputs": [],
   "source": [
    "def penalized_pearson_loss(x,y, axis=-2):\n",
    "    \"\"\"Penalized Pearson correlation coefficient\"\"\"\n",
    "    x = tf.convert_to_tensor(x)\n",
    "    y = K.cast(y, x.dtype)\n",
    "    n = tf.cast(tf.shape(x)[axis], x.dtype)\n",
    "    xsum = tf.reduce_sum(x, axis=axis)\n",
    "    ysum = tf.reduce_sum(y, axis=axis)\n",
    "    xmean = xsum / n\n",
    "    ymean = ysum / n\n",
    "    xsqsum = tf.reduce_sum( tf.math.squared_difference(x, xmean), axis=axis)\n",
    "    ysqsum = tf.reduce_sum( tf.math.squared_difference(y, ymean), axis=axis)\n",
    "    cov = tf.reduce_sum( (x - xmean) * (y - ymean), axis=axis)\n",
    "    corr = cov / (tf.sqrt(xsqsum * ysqsum)+ K.epsilon())\n",
    "    sqdif = tf.reduce_sum(tf.math.squared_difference(x, y), axis=axis) / n / tf.sqrt(ysqsum / n)\n",
    "    return tf.convert_to_tensor( K.mean(tf.constant(1.0, dtype=x.dtype) - corr + (0.01 * sqdif)) , dtype=tf.float32 )"
   ]
  },
  {
   "cell_type": "markdown",
   "metadata": {},
   "source": [
    "Next we program the pearson_metric function using py_func."
   ]
  },
  {
   "cell_type": "markdown",
   "metadata": {},
   "source": [
    "py_func is a tf wrapper for a python function. py_func returns a tensor.\n",
    "Below we use py_func to wrap around the python function pearsonr.\n",
    "This use of py_func does NOT work in my setup which is why\n",
    "I commented out the pearson_metric that uses py_func and intead\n",
    "I use the pearson_metric underneath that uses tensors.\n",
    "py_func doesn't always work."
   ]
  },
  {
   "cell_type": "markdown",
   "metadata": {},
   "source": [
    "def pearson_metric(y_true, y_pred):\n",
    "    \"\"\"Pearson correlation coefficient\"\"\"\n",
    "    \n",
    "    r = tf.py_function(pearsonr, inp=[y_true, y_pred], Tout=tf.float32)\n",
    "    \n",
    "    return  tf.constant(1.0, dtype=y_true.dtype)  - r"
   ]
  },
  {
   "cell_type": "code",
   "execution_count": 4,
   "metadata": {},
   "outputs": [],
   "source": [
    "def pearson_metric(y_true, y_pred):\n",
    "    \"\"\"Pearson correlation coefficient programmed using tensors\"\"\"\n",
    "\n",
    "    x = y_true\n",
    "    y = y_pred\n",
    "    xm, ym = x - K.mean(x), y - K.mean(y)\n",
    "    r_num = K.sum(tf.multiply(xm, ym))\n",
    "    r_den = K.sqrt(tf.multiply(K.sum(K.square(xm)), K.sum(K.square(ym))))\n",
    "    r = r_num / (r_den + K.epsilon())\n",
    "    r = K.maximum(K.minimum(r, 1.0), -1.0)\n",
    "    \n",
    "    return tf.constant(1.0, dtype=x.dtype) - K.square(r)"
   ]
  },
  {
   "cell_type": "code",
   "execution_count": 5,
   "metadata": {},
   "outputs": [],
   "source": [
    "num_features = 20\n",
    "# generate regression dataset\n",
    "X, y = make_regression(n_samples=1000, n_features=num_features, noise=0.1, random_state=1)\n",
    "\n",
    "# split into train and test\n",
    "n_train = 500\n",
    "trainX, testX = X[:n_train, :], X[n_train:, :]\n",
    "trainy, testy = y[:n_train], y[n_train:]\n",
    "\n",
    "# reshape 1d arrays to 2d arrays\n",
    "trainy = trainy.reshape(len(trainy), 1)\n",
    "testy = testy.reshape(len(trainy), 1)\n",
    "\n",
    "# create scaler\n",
    "scaler = StandardScaler()\n",
    "# fit scaler on training dataset\n",
    "scaler.fit(trainy)\n",
    "# transform training dataset\n",
    "trainy = scaler.transform(trainy)\n",
    "# transform test dataset\n",
    "testy = scaler.transform(testy)\n",
    "\n",
    "# fit scaler on training dataset\n",
    "scaler.fit(trainX)\n",
    "# transform training dataset\n",
    "trainX = scaler.transform(trainX)\n",
    "# transform test dataset\n",
    "testX = scaler.transform(testX)"
   ]
  },
  {
   "cell_type": "code",
   "execution_count": 6,
   "metadata": {},
   "outputs": [
    {
     "name": "stdout",
     "output_type": "stream",
     "text": [
      "Train on 500 samples, validate on 500 samples\n",
      "Epoch 1/100\n",
      "500/500 [==============================] - 0s 463us/step - loss: 0.7732 - pearson_metric: 0.8433 - mean_squared_error: 1.6652 - val_loss: 0.2939 - val_pearson_metric: 0.4849 - val_mean_squared_error: 0.8314\n",
      "Epoch 2/100\n",
      "500/500 [==============================] - 0s 45us/step - loss: 0.2092 - pearson_metric: 0.3589 - mean_squared_error: 0.9092 - val_loss: 0.1276 - val_pearson_metric: 0.2264 - val_mean_squared_error: 1.1606\n",
      "Epoch 3/100\n",
      "500/500 [==============================] - 0s 38us/step - loss: 0.1241 - pearson_metric: 0.2190 - mean_squared_error: 1.1431 - val_loss: 0.0897 - val_pearson_metric: 0.1589 - val_mean_squared_error: 1.2887\n",
      "Epoch 4/100\n",
      "500/500 [==============================] - 0s 43us/step - loss: 0.0911 - pearson_metric: 0.1619 - mean_squared_error: 1.0744 - val_loss: 0.0776 - val_pearson_metric: 0.1368 - val_mean_squared_error: 1.2955\n",
      "Epoch 5/100\n",
      "500/500 [==============================] - 0s 42us/step - loss: 0.0711 - pearson_metric: 0.1264 - mean_squared_error: 1.0460 - val_loss: 0.0694 - val_pearson_metric: 0.1218 - val_mean_squared_error: 1.2944\n",
      "Epoch 6/100\n",
      "500/500 [==============================] - 0s 41us/step - loss: 0.0679 - pearson_metric: 0.1203 - mean_squared_error: 1.0286 - val_loss: 0.0631 - val_pearson_metric: 0.1102 - val_mean_squared_error: 1.2930\n",
      "Epoch 7/100\n",
      "500/500 [==============================] - 0s 42us/step - loss: 0.0617 - pearson_metric: 0.1088 - mean_squared_error: 1.0163 - val_loss: 0.0581 - val_pearson_metric: 0.1009 - val_mean_squared_error: 1.2974\n",
      "Epoch 8/100\n",
      "500/500 [==============================] - 0s 41us/step - loss: 0.0531 - pearson_metric: 0.0930 - mean_squared_error: 1.0104 - val_loss: 0.0553 - val_pearson_metric: 0.0956 - val_mean_squared_error: 1.3014\n",
      "Epoch 9/100\n",
      "500/500 [==============================] - 0s 46us/step - loss: 0.0504 - pearson_metric: 0.0880 - mean_squared_error: 1.0084 - val_loss: 0.0520 - val_pearson_metric: 0.0895 - val_mean_squared_error: 1.3007\n",
      "Epoch 10/100\n",
      "500/500 [==============================] - 0s 40us/step - loss: 0.0440 - pearson_metric: 0.0758 - mean_squared_error: 1.0018 - val_loss: 0.0499 - val_pearson_metric: 0.0855 - val_mean_squared_error: 1.2989\n",
      "Epoch 11/100\n",
      "500/500 [==============================] - 0s 44us/step - loss: 0.0429 - pearson_metric: 0.0737 - mean_squared_error: 0.9888 - val_loss: 0.0478 - val_pearson_metric: 0.0818 - val_mean_squared_error: 1.2790\n",
      "Epoch 12/100\n",
      "500/500 [==============================] - 0s 42us/step - loss: 0.0394 - pearson_metric: 0.0674 - mean_squared_error: 0.9716 - val_loss: 0.0463 - val_pearson_metric: 0.0790 - val_mean_squared_error: 1.2674\n",
      "Epoch 13/100\n",
      "500/500 [==============================] - 0s 46us/step - loss: 0.0409 - pearson_metric: 0.0701 - mean_squared_error: 0.9510 - val_loss: 0.0449 - val_pearson_metric: 0.0765 - val_mean_squared_error: 1.2477\n",
      "Epoch 14/100\n",
      "500/500 [==============================] - 0s 46us/step - loss: 0.0351 - pearson_metric: 0.0595 - mean_squared_error: 0.9392 - val_loss: 0.0429 - val_pearson_metric: 0.0726 - val_mean_squared_error: 1.2350\n",
      "Epoch 15/100\n",
      "500/500 [==============================] - 0s 48us/step - loss: 0.0328 - pearson_metric: 0.0549 - mean_squared_error: 0.9256 - val_loss: 0.0411 - val_pearson_metric: 0.0695 - val_mean_squared_error: 1.2041\n",
      "Epoch 16/100\n",
      "500/500 [==============================] - 0s 40us/step - loss: 0.0324 - pearson_metric: 0.0544 - mean_squared_error: 0.9025 - val_loss: 0.0397 - val_pearson_metric: 0.0670 - val_mean_squared_error: 1.1740\n",
      "Epoch 17/100\n",
      "500/500 [==============================] - 0s 46us/step - loss: 0.0321 - pearson_metric: 0.0538 - mean_squared_error: 0.8850 - val_loss: 0.0382 - val_pearson_metric: 0.0644 - val_mean_squared_error: 1.1528\n",
      "Epoch 18/100\n",
      "500/500 [==============================] - 0s 44us/step - loss: 0.0282 - pearson_metric: 0.0467 - mean_squared_error: 0.8649 - val_loss: 0.0370 - val_pearson_metric: 0.0622 - val_mean_squared_error: 1.1192\n",
      "Epoch 19/100\n",
      "500/500 [==============================] - 0s 42us/step - loss: 0.0277 - pearson_metric: 0.0457 - mean_squared_error: 0.8368 - val_loss: 0.0361 - val_pearson_metric: 0.0607 - val_mean_squared_error: 1.0901\n",
      "Epoch 20/100\n",
      "500/500 [==============================] - 0s 44us/step - loss: 0.0272 - pearson_metric: 0.0449 - mean_squared_error: 0.8067 - val_loss: 0.0352 - val_pearson_metric: 0.0593 - val_mean_squared_error: 1.0512\n",
      "Epoch 21/100\n",
      "500/500 [==============================] - 0s 42us/step - loss: 0.0275 - pearson_metric: 0.0459 - mean_squared_error: 0.7797 - val_loss: 0.0344 - val_pearson_metric: 0.0579 - val_mean_squared_error: 1.0263\n",
      "Epoch 22/100\n",
      "500/500 [==============================] - 0s 42us/step - loss: 0.0244 - pearson_metric: 0.0400 - mean_squared_error: 0.7570 - val_loss: 0.0332 - val_pearson_metric: 0.0558 - val_mean_squared_error: 0.9951\n",
      "Epoch 23/100\n",
      "500/500 [==============================] - 0s 44us/step - loss: 0.0235 - pearson_metric: 0.0386 - mean_squared_error: 0.7329 - val_loss: 0.0323 - val_pearson_metric: 0.0543 - val_mean_squared_error: 0.9586\n",
      "Epoch 24/100\n",
      "500/500 [==============================] - 0s 44us/step - loss: 0.0217 - pearson_metric: 0.0351 - mean_squared_error: 0.7047 - val_loss: 0.0312 - val_pearson_metric: 0.0525 - val_mean_squared_error: 0.9211\n",
      "Epoch 25/100\n",
      "500/500 [==============================] - 0s 42us/step - loss: 0.0211 - pearson_metric: 0.0342 - mean_squared_error: 0.6784 - val_loss: 0.0303 - val_pearson_metric: 0.0510 - val_mean_squared_error: 0.8872\n",
      "Epoch 26/100\n",
      "500/500 [==============================] - 0s 44us/step - loss: 0.0204 - pearson_metric: 0.0330 - mean_squared_error: 0.6522 - val_loss: 0.0297 - val_pearson_metric: 0.0501 - val_mean_squared_error: 0.8528\n",
      "Epoch 27/100\n",
      "500/500 [==============================] - 0s 42us/step - loss: 0.0209 - pearson_metric: 0.0342 - mean_squared_error: 0.6272 - val_loss: 0.0288 - val_pearson_metric: 0.0486 - val_mean_squared_error: 0.8184\n",
      "Epoch 28/100\n",
      "500/500 [==============================] - 0s 40us/step - loss: 0.0192 - pearson_metric: 0.0311 - mean_squared_error: 0.5994 - val_loss: 0.0280 - val_pearson_metric: 0.0473 - val_mean_squared_error: 0.7801\n",
      "Epoch 29/100\n",
      "500/500 [==============================] - 0s 44us/step - loss: 0.0185 - pearson_metric: 0.0302 - mean_squared_error: 0.5736 - val_loss: 0.0273 - val_pearson_metric: 0.0462 - val_mean_squared_error: 0.7461\n",
      "Epoch 30/100\n",
      "500/500 [==============================] - 0s 44us/step - loss: 0.0181 - pearson_metric: 0.0295 - mean_squared_error: 0.5440 - val_loss: 0.0265 - val_pearson_metric: 0.0450 - val_mean_squared_error: 0.7096\n",
      "Epoch 31/100\n",
      "500/500 [==============================] - 0s 46us/step - loss: 0.0188 - pearson_metric: 0.0311 - mean_squared_error: 0.5219 - val_loss: 0.0256 - val_pearson_metric: 0.0434 - val_mean_squared_error: 0.6779\n",
      "Epoch 32/100\n",
      "500/500 [==============================] - 0s 48us/step - loss: 0.0176 - pearson_metric: 0.0290 - mean_squared_error: 0.4999 - val_loss: 0.0249 - val_pearson_metric: 0.0423 - val_mean_squared_error: 0.6459\n",
      "Epoch 33/100\n",
      "500/500 [==============================] - 0s 42us/step - loss: 0.0166 - pearson_metric: 0.0272 - mean_squared_error: 0.4745 - val_loss: 0.0244 - val_pearson_metric: 0.0415 - val_mean_squared_error: 0.6187\n",
      "Epoch 34/100\n",
      "500/500 [==============================] - 0s 44us/step - loss: 0.0154 - pearson_metric: 0.0251 - mean_squared_error: 0.4532 - val_loss: 0.0237 - val_pearson_metric: 0.0404 - val_mean_squared_error: 0.5894\n",
      "Epoch 35/100\n",
      "500/500 [==============================] - 0s 42us/step - loss: 0.0153 - pearson_metric: 0.0251 - mean_squared_error: 0.4309 - val_loss: 0.0232 - val_pearson_metric: 0.0397 - val_mean_squared_error: 0.5598\n",
      "Epoch 36/100\n",
      "500/500 [==============================] - 0s 42us/step - loss: 0.0151 - pearson_metric: 0.0249 - mean_squared_error: 0.4078 - val_loss: 0.0225 - val_pearson_metric: 0.0386 - val_mean_squared_error: 0.5316\n",
      "Epoch 37/100\n",
      "500/500 [==============================] - ETA: 0s - loss: 0.0104 - pearson_metric: 0.0143 - mean_squared_error: 0.566 - 0s 44us/step - loss: 0.0150 - pearson_metric: 0.0248 - mean_squared_error: 0.3887 - val_loss: 0.0220 - val_pearson_metric: 0.0379 - val_mean_squared_error: 0.5043\n"
     ]
    },
    {
     "name": "stdout",
     "output_type": "stream",
     "text": [
      "Epoch 38/100\n",
      "500/500 [==============================] - 0s 40us/step - loss: 0.0145 - pearson_metric: 0.0241 - mean_squared_error: 0.3673 - val_loss: 0.0216 - val_pearson_metric: 0.0373 - val_mean_squared_error: 0.4807\n",
      "Epoch 39/100\n",
      "500/500 [==============================] - 0s 68us/step - loss: 0.0133 - pearson_metric: 0.0221 - mean_squared_error: 0.3477 - val_loss: 0.0210 - val_pearson_metric: 0.0365 - val_mean_squared_error: 0.4548\n",
      "Epoch 40/100\n",
      "500/500 [==============================] - 0s 48us/step - loss: 0.0139 - pearson_metric: 0.0232 - mean_squared_error: 0.3312 - val_loss: 0.0206 - val_pearson_metric: 0.0357 - val_mean_squared_error: 0.4337\n",
      "Epoch 41/100\n",
      "500/500 [==============================] - 0s 46us/step - loss: 0.0134 - pearson_metric: 0.0226 - mean_squared_error: 0.3133 - val_loss: 0.0199 - val_pearson_metric: 0.0346 - val_mean_squared_error: 0.4065\n",
      "Epoch 42/100\n",
      "500/500 [==============================] - 0s 44us/step - loss: 0.0125 - pearson_metric: 0.0209 - mean_squared_error: 0.2941 - val_loss: 0.0194 - val_pearson_metric: 0.0338 - val_mean_squared_error: 0.3837\n",
      "Epoch 43/100\n",
      "500/500 [==============================] - 0s 40us/step - loss: 0.0117 - pearson_metric: 0.0196 - mean_squared_error: 0.2779 - val_loss: 0.0189 - val_pearson_metric: 0.0332 - val_mean_squared_error: 0.3638\n",
      "Epoch 44/100\n",
      "500/500 [==============================] - 0s 42us/step - loss: 0.0114 - pearson_metric: 0.0192 - mean_squared_error: 0.2600 - val_loss: 0.0186 - val_pearson_metric: 0.0328 - val_mean_squared_error: 0.3423\n",
      "Epoch 45/100\n",
      "500/500 [==============================] - 0s 42us/step - loss: 0.0120 - pearson_metric: 0.0205 - mean_squared_error: 0.2445 - val_loss: 0.0180 - val_pearson_metric: 0.0318 - val_mean_squared_error: 0.3225\n",
      "Epoch 46/100\n",
      "500/500 [==============================] - 0s 42us/step - loss: 0.0116 - pearson_metric: 0.0198 - mean_squared_error: 0.2310 - val_loss: 0.0175 - val_pearson_metric: 0.0309 - val_mean_squared_error: 0.3014\n",
      "Epoch 47/100\n",
      "500/500 [==============================] - 0s 40us/step - loss: 0.0107 - pearson_metric: 0.0183 - mean_squared_error: 0.2158 - val_loss: 0.0171 - val_pearson_metric: 0.0303 - val_mean_squared_error: 0.2823\n",
      "Epoch 48/100\n",
      "500/500 [==============================] - 0s 42us/step - loss: 0.0109 - pearson_metric: 0.0187 - mean_squared_error: 0.2030 - val_loss: 0.0167 - val_pearson_metric: 0.0298 - val_mean_squared_error: 0.2653\n",
      "Epoch 49/100\n",
      "500/500 [==============================] - 0s 42us/step - loss: 0.0100 - pearson_metric: 0.0173 - mean_squared_error: 0.1889 - val_loss: 0.0164 - val_pearson_metric: 0.0294 - val_mean_squared_error: 0.2489\n",
      "Epoch 50/100\n",
      "500/500 [==============================] - 0s 42us/step - loss: 0.0098 - pearson_metric: 0.0170 - mean_squared_error: 0.1762 - val_loss: 0.0162 - val_pearson_metric: 0.0291 - val_mean_squared_error: 0.2350\n",
      "Epoch 51/100\n",
      "500/500 [==============================] - 0s 42us/step - loss: 0.0098 - pearson_metric: 0.0171 - mean_squared_error: 0.1663 - val_loss: 0.0159 - val_pearson_metric: 0.0288 - val_mean_squared_error: 0.2205\n",
      "Epoch 52/100\n",
      "500/500 [==============================] - 0s 42us/step - loss: 0.0093 - pearson_metric: 0.0162 - mean_squared_error: 0.1538 - val_loss: 0.0155 - val_pearson_metric: 0.0281 - val_mean_squared_error: 0.2060\n",
      "Epoch 53/100\n",
      "500/500 [==============================] - 0s 42us/step - loss: 0.0089 - pearson_metric: 0.0155 - mean_squared_error: 0.1434 - val_loss: 0.0151 - val_pearson_metric: 0.0274 - val_mean_squared_error: 0.1914\n",
      "Epoch 54/100\n",
      "500/500 [==============================] - 0s 40us/step - loss: 0.0089 - pearson_metric: 0.0157 - mean_squared_error: 0.1338 - val_loss: 0.0148 - val_pearson_metric: 0.0270 - val_mean_squared_error: 0.1795\n",
      "Epoch 55/100\n",
      "500/500 [==============================] - 0s 42us/step - loss: 0.0089 - pearson_metric: 0.0159 - mean_squared_error: 0.1244 - val_loss: 0.0145 - val_pearson_metric: 0.0265 - val_mean_squared_error: 0.1677\n",
      "Epoch 56/100\n",
      "500/500 [==============================] - 0s 42us/step - loss: 0.0082 - pearson_metric: 0.0146 - mean_squared_error: 0.1150 - val_loss: 0.0141 - val_pearson_metric: 0.0258 - val_mean_squared_error: 0.1551\n",
      "Epoch 57/100\n",
      "500/500 [==============================] - 0s 42us/step - loss: 0.0085 - pearson_metric: 0.0151 - mean_squared_error: 0.1075 - val_loss: 0.0139 - val_pearson_metric: 0.0256 - val_mean_squared_error: 0.1458\n",
      "Epoch 58/100\n",
      "500/500 [==============================] - 0s 42us/step - loss: 0.0082 - pearson_metric: 0.0148 - mean_squared_error: 0.1000 - val_loss: 0.0136 - val_pearson_metric: 0.0252 - val_mean_squared_error: 0.1365\n",
      "Epoch 59/100\n",
      "500/500 [==============================] - 0s 42us/step - loss: 0.0078 - pearson_metric: 0.0140 - mean_squared_error: 0.0925 - val_loss: 0.0134 - val_pearson_metric: 0.0249 - val_mean_squared_error: 0.1276\n",
      "Epoch 60/100\n",
      "500/500 [==============================] - 0s 42us/step - loss: 0.0077 - pearson_metric: 0.0140 - mean_squared_error: 0.0860 - val_loss: 0.0132 - val_pearson_metric: 0.0245 - val_mean_squared_error: 0.1193\n",
      "Epoch 61/100\n",
      "500/500 [==============================] - 0s 40us/step - loss: 0.0077 - pearson_metric: 0.0140 - mean_squared_error: 0.0800 - val_loss: 0.0130 - val_pearson_metric: 0.0243 - val_mean_squared_error: 0.1116\n",
      "Epoch 62/100\n",
      "500/500 [==============================] - 0s 42us/step - loss: 0.0074 - pearson_metric: 0.0134 - mean_squared_error: 0.0740 - val_loss: 0.0127 - val_pearson_metric: 0.0237 - val_mean_squared_error: 0.1041\n",
      "Epoch 63/100\n",
      "500/500 [==============================] - 0s 44us/step - loss: 0.0072 - pearson_metric: 0.0131 - mean_squared_error: 0.0687 - val_loss: 0.0124 - val_pearson_metric: 0.0232 - val_mean_squared_error: 0.0966\n",
      "Epoch 64/100\n",
      "500/500 [==============================] - 0s 42us/step - loss: 0.0071 - pearson_metric: 0.0131 - mean_squared_error: 0.0640 - val_loss: 0.0123 - val_pearson_metric: 0.0230 - val_mean_squared_error: 0.0920\n",
      "Epoch 65/100\n",
      "500/500 [==============================] - 0s 42us/step - loss: 0.0073 - pearson_metric: 0.0135 - mean_squared_error: 0.0591 - val_loss: 0.0119 - val_pearson_metric: 0.0223 - val_mean_squared_error: 0.0849\n",
      "Epoch 66/100\n",
      "500/500 [==============================] - 0s 42us/step - loss: 0.0068 - pearson_metric: 0.0127 - mean_squared_error: 0.0555 - val_loss: 0.0118 - val_pearson_metric: 0.0223 - val_mean_squared_error: 0.0811\n",
      "Epoch 67/100\n",
      "500/500 [==============================] - 0s 42us/step - loss: 0.0068 - pearson_metric: 0.0126 - mean_squared_error: 0.0524 - val_loss: 0.0116 - val_pearson_metric: 0.0219 - val_mean_squared_error: 0.0764\n",
      "Epoch 68/100\n",
      "500/500 [==============================] - 0s 44us/step - loss: 0.0062 - pearson_metric: 0.0115 - mean_squared_error: 0.0480 - val_loss: 0.0115 - val_pearson_metric: 0.0217 - val_mean_squared_error: 0.0717\n",
      "Epoch 69/100\n",
      "500/500 [==============================] - 0s 42us/step - loss: 0.0063 - pearson_metric: 0.0117 - mean_squared_error: 0.0445 - val_loss: 0.0113 - val_pearson_metric: 0.0214 - val_mean_squared_error: 0.0670\n",
      "Epoch 70/100\n",
      "500/500 [==============================] - 0s 42us/step - loss: 0.0060 - pearson_metric: 0.0113 - mean_squared_error: 0.0413 - val_loss: 0.0110 - val_pearson_metric: 0.0209 - val_mean_squared_error: 0.0625\n",
      "Epoch 71/100\n",
      "500/500 [==============================] - ETA: 0s - loss: 0.0039 - pearson_metric: 0.0069 - mean_squared_error: 0.049 - 0s 42us/step - loss: 0.0062 - pearson_metric: 0.0116 - mean_squared_error: 0.0380 - val_loss: 0.0110 - val_pearson_metric: 0.0210 - val_mean_squared_error: 0.0595\n",
      "Epoch 72/100\n",
      "500/500 [==============================] - 0s 42us/step - loss: 0.0061 - pearson_metric: 0.0114 - mean_squared_error: 0.0357 - val_loss: 0.0108 - val_pearson_metric: 0.0206 - val_mean_squared_error: 0.0562\n",
      "Epoch 73/100\n",
      "500/500 [==============================] - 0s 40us/step - loss: 0.0057 - pearson_metric: 0.0109 - mean_squared_error: 0.0336 - val_loss: 0.0107 - val_pearson_metric: 0.0204 - val_mean_squared_error: 0.0537\n",
      "Epoch 74/100\n",
      "500/500 [==============================] - 0s 42us/step - loss: 0.0058 - pearson_metric: 0.0109 - mean_squared_error: 0.0315 - val_loss: 0.0106 - val_pearson_metric: 0.0202 - val_mean_squared_error: 0.0510\n",
      "Epoch 75/100\n"
     ]
    },
    {
     "name": "stdout",
     "output_type": "stream",
     "text": [
      "500/500 [==============================] - 0s 42us/step - loss: 0.0058 - pearson_metric: 0.0111 - mean_squared_error: 0.0295 - val_loss: 0.0104 - val_pearson_metric: 0.0199 - val_mean_squared_error: 0.0483\n",
      "Epoch 76/100\n",
      "500/500 [==============================] - 0s 42us/step - loss: 0.0053 - pearson_metric: 0.0101 - mean_squared_error: 0.0276 - val_loss: 0.0103 - val_pearson_metric: 0.0197 - val_mean_squared_error: 0.0458\n",
      "Epoch 77/100\n",
      "500/500 [==============================] - 0s 42us/step - loss: 0.0056 - pearson_metric: 0.0107 - mean_squared_error: 0.0256 - val_loss: 0.0100 - val_pearson_metric: 0.0191 - val_mean_squared_error: 0.0424\n",
      "Epoch 78/100\n",
      "500/500 [==============================] - 0s 42us/step - loss: 0.0054 - pearson_metric: 0.0104 - mean_squared_error: 0.0237 - val_loss: 0.0098 - val_pearson_metric: 0.0189 - val_mean_squared_error: 0.0409\n",
      "Epoch 79/100\n",
      "500/500 [==============================] - 0s 42us/step - loss: 0.0057 - pearson_metric: 0.0109 - mean_squared_error: 0.0230 - val_loss: 0.0097 - val_pearson_metric: 0.0187 - val_mean_squared_error: 0.0388\n",
      "Epoch 80/100\n",
      "500/500 [==============================] - 0s 42us/step - loss: 0.0055 - pearson_metric: 0.0106 - mean_squared_error: 0.0209 - val_loss: 0.0096 - val_pearson_metric: 0.0185 - val_mean_squared_error: 0.0371\n",
      "Epoch 81/100\n",
      "500/500 [==============================] - 0s 40us/step - loss: 0.0051 - pearson_metric: 0.0099 - mean_squared_error: 0.0199 - val_loss: 0.0096 - val_pearson_metric: 0.0185 - val_mean_squared_error: 0.0366\n",
      "Epoch 82/100\n",
      "500/500 [==============================] - 0s 42us/step - loss: 0.0052 - pearson_metric: 0.0100 - mean_squared_error: 0.0190 - val_loss: 0.0093 - val_pearson_metric: 0.0180 - val_mean_squared_error: 0.0344\n",
      "Epoch 83/100\n",
      "500/500 [==============================] - 0s 40us/step - loss: 0.0048 - pearson_metric: 0.0093 - mean_squared_error: 0.0182 - val_loss: 0.0092 - val_pearson_metric: 0.0178 - val_mean_squared_error: 0.0337\n",
      "Epoch 84/100\n",
      "500/500 [==============================] - 0s 42us/step - loss: 0.0049 - pearson_metric: 0.0094 - mean_squared_error: 0.0175 - val_loss: 0.0090 - val_pearson_metric: 0.0174 - val_mean_squared_error: 0.0319\n",
      "Epoch 85/100\n",
      "500/500 [==============================] - 0s 42us/step - loss: 0.0049 - pearson_metric: 0.0095 - mean_squared_error: 0.0168 - val_loss: 0.0090 - val_pearson_metric: 0.0175 - val_mean_squared_error: 0.0316\n",
      "Epoch 86/100\n",
      "500/500 [==============================] - 0s 42us/step - loss: 0.0047 - pearson_metric: 0.0090 - mean_squared_error: 0.0157 - val_loss: 0.0089 - val_pearson_metric: 0.0172 - val_mean_squared_error: 0.0299\n",
      "Epoch 87/100\n",
      "500/500 [==============================] - 0s 40us/step - loss: 0.0047 - pearson_metric: 0.0092 - mean_squared_error: 0.0149 - val_loss: 0.0088 - val_pearson_metric: 0.0171 - val_mean_squared_error: 0.0292\n",
      "Epoch 88/100\n",
      "500/500 [==============================] - 0s 50us/step - loss: 0.0048 - pearson_metric: 0.0093 - mean_squared_error: 0.0141 - val_loss: 0.0087 - val_pearson_metric: 0.0169 - val_mean_squared_error: 0.0281\n",
      "Epoch 89/100\n",
      "500/500 [==============================] - 0s 44us/step - loss: 0.0046 - pearson_metric: 0.0089 - mean_squared_error: 0.0137 - val_loss: 0.0087 - val_pearson_metric: 0.0169 - val_mean_squared_error: 0.0276\n",
      "Epoch 90/100\n",
      "500/500 [==============================] - 0s 44us/step - loss: 0.0043 - pearson_metric: 0.0084 - mean_squared_error: 0.0132 - val_loss: 0.0086 - val_pearson_metric: 0.0166 - val_mean_squared_error: 0.0270\n",
      "Epoch 91/100\n",
      "500/500 [==============================] - 0s 46us/step - loss: 0.0043 - pearson_metric: 0.0083 - mean_squared_error: 0.0127 - val_loss: 0.0084 - val_pearson_metric: 0.0164 - val_mean_squared_error: 0.0259\n",
      "Epoch 92/100\n",
      "500/500 [==============================] - 0s 44us/step - loss: 0.0043 - pearson_metric: 0.0084 - mean_squared_error: 0.0120 - val_loss: 0.0084 - val_pearson_metric: 0.0164 - val_mean_squared_error: 0.0254\n",
      "Epoch 93/100\n",
      "500/500 [==============================] - 0s 44us/step - loss: 0.0043 - pearson_metric: 0.0083 - mean_squared_error: 0.0117 - val_loss: 0.0083 - val_pearson_metric: 0.0161 - val_mean_squared_error: 0.0250\n",
      "Epoch 94/100\n",
      "500/500 [==============================] - 0s 44us/step - loss: 0.0042 - pearson_metric: 0.0081 - mean_squared_error: 0.0114 - val_loss: 0.0081 - val_pearson_metric: 0.0158 - val_mean_squared_error: 0.0240\n",
      "Epoch 95/100\n",
      "500/500 [==============================] - 0s 44us/step - loss: 0.0043 - pearson_metric: 0.0084 - mean_squared_error: 0.0108 - val_loss: 0.0081 - val_pearson_metric: 0.0157 - val_mean_squared_error: 0.0235\n",
      "Epoch 96/100\n",
      "500/500 [==============================] - 0s 44us/step - loss: 0.0040 - pearson_metric: 0.0079 - mean_squared_error: 0.0107 - val_loss: 0.0081 - val_pearson_metric: 0.0157 - val_mean_squared_error: 0.0235\n",
      "Epoch 97/100\n",
      "500/500 [==============================] - 0s 46us/step - loss: 0.0039 - pearson_metric: 0.0077 - mean_squared_error: 0.0104 - val_loss: 0.0080 - val_pearson_metric: 0.0156 - val_mean_squared_error: 0.0231\n",
      "Epoch 98/100\n",
      "500/500 [==============================] - 0s 44us/step - loss: 0.0039 - pearson_metric: 0.0076 - mean_squared_error: 0.0100 - val_loss: 0.0079 - val_pearson_metric: 0.0153 - val_mean_squared_error: 0.0222\n",
      "Epoch 99/100\n",
      "500/500 [==============================] - 0s 44us/step - loss: 0.0040 - pearson_metric: 0.0077 - mean_squared_error: 0.0097 - val_loss: 0.0078 - val_pearson_metric: 0.0151 - val_mean_squared_error: 0.0218\n",
      "Epoch 100/100\n",
      "500/500 [==============================] - 0s 44us/step - loss: 0.0039 - pearson_metric: 0.0076 - mean_squared_error: 0.0095 - val_loss: 0.0077 - val_pearson_metric: 0.0150 - val_mean_squared_error: 0.0214\n",
      "500/500 [==============================] - 0s 18us/step\n",
      "500/500 [==============================] - 0s 16us/step\n",
      "Train loss: 0.004, Test loss: 0.008\n",
      "Train metric: 0.008, Test metric: 0.015\n"
     ]
    },
    {
     "data": {
      "image/png": "[encoded data removed]",
      "text/plain": [
       "<Figure size 432x288 with 1 Axes>"
      ]
     },
     "metadata": {
      "needs_background": "light"
     },
     "output_type": "display_data"
    }
   ],
   "source": [
    "# mlp with scaled inputs outputs on the regression problem using custom loss and custom metric\n",
    "# define model\n",
    "model = Sequential()\n",
    "model.add(Dense(25, input_dim=20, activation='relu', kernel_initializer='he_uniform'))\n",
    "model.add(Dense(1, activation='linear'))\n",
    "# compile model using as loss: penalized_pearson_loss; as metric: pearson_metric AND kears.losses.mean_squared_error\n",
    "#model.compile(#####\n",
    "\n",
    "# fit model\n",
    "history = model.fit(trainX, trainy, validation_data=(testX, testy), epochs=100, verbose=1)\n",
    "# evaluate the model\n",
    "train_e = model.evaluate(trainX, trainy, verbose=1)\n",
    "test_e = model.evaluate(testX, testy, verbose=1)\n",
    "print('Train loss: %.3f, Test loss: %.3f' % (train_e[0], test_e[0])) #when using custom loss and custom metric\n",
    "print('Train metric: %.3f, Test metric: %.3f' % (train_e[1], test_e[1])) #when using custom loss and custom metric\n",
    "#print('Train loss: %.3f, Test loss: %.3f' % (train_e, test_e)) \n",
    "#plot loss during training\n",
    "plt.title('Loss / Error')\n",
    "plt.plot(history.history['loss'], label='train')\n",
    "plt.plot(history.history['val_loss'], label='test')\n",
    "plt.legend()\n",
    "plt.show()"
   ]
  },
  {
   "cell_type": "markdown",
   "metadata": {},
   "source": [
    "Since the spearman_loss function for tensorflow 1.5 in spearman_corr_incomplete.ipynb cannot be used without a gradient, you have three options. "
   ]
  },
  {
   "cell_type": "markdown",
   "metadata": {},
   "source": [
    "1. You can program a gradient for the function."
   ]
  },
  {
   "cell_type": "markdown",
   "metadata": {},
   "source": [
    "2. You can use the spearman_loss function for tensorflow 2.6 in spearman_corr_TSFL2.ipynb (but we have not tested this).  "
   ]
  },
  {
   "cell_type": "markdown",
   "metadata": {},
   "source": [
    "3. You can use the penalized_pearson_loss function instead of the spearman_loss function (as we have done here)."
   ]
  },
  {
   "cell_type": "code",
   "execution_count": 7,
   "metadata": {},
   "outputs": [
    {
     "data": {
      "text/html": [
       "<div>\n",
       "<style scoped>\n",
       "    .dataframe tbody tr th:only-of-type {\n",
       "        vertical-align: middle;\n",
       "    }\n",
       "\n",
       "    .dataframe tbody tr th {\n",
       "        vertical-align: top;\n",
       "    }\n",
       "\n",
       "    .dataframe thead th {\n",
       "        text-align: right;\n",
       "    }\n",
       "</style>\n",
       "<table border=\"1\" class=\"dataframe\">\n",
       "  <thead>\n",
       "    <tr style=\"text-align: right;\">\n",
       "      <th></th>\n",
       "      <th>val_loss</th>\n",
       "      <th>val_pearson_metric</th>\n",
       "      <th>val_mean_squared_error</th>\n",
       "      <th>loss</th>\n",
       "      <th>pearson_metric</th>\n",
       "      <th>mean_squared_error</th>\n",
       "    </tr>\n",
       "  </thead>\n",
       "  <tbody>\n",
       "    <tr>\n",
       "      <th>0</th>\n",
       "      <td>0.293855</td>\n",
       "      <td>0.484872</td>\n",
       "      <td>0.831395</td>\n",
       "      <td>0.773167</td>\n",
       "      <td>0.843285</td>\n",
       "      <td>1.665176</td>\n",
       "    </tr>\n",
       "    <tr>\n",
       "      <th>1</th>\n",
       "      <td>0.127612</td>\n",
       "      <td>0.226385</td>\n",
       "      <td>1.160582</td>\n",
       "      <td>0.209238</td>\n",
       "      <td>0.358895</td>\n",
       "      <td>0.909221</td>\n",
       "    </tr>\n",
       "    <tr>\n",
       "      <th>2</th>\n",
       "      <td>0.089742</td>\n",
       "      <td>0.158878</td>\n",
       "      <td>1.288711</td>\n",
       "      <td>0.124057</td>\n",
       "      <td>0.219008</td>\n",
       "      <td>1.143125</td>\n",
       "    </tr>\n",
       "  </tbody>\n",
       "</table>\n",
       "</div>"
      ],
      "text/plain": [
       "   val_loss  val_pearson_metric  val_mean_squared_error      loss  \\\n",
       "0  0.293855            0.484872                0.831395  0.773167   \n",
       "1  0.127612            0.226385                1.160582  0.209238   \n",
       "2  0.089742            0.158878                1.288711  0.124057   \n",
       "\n",
       "   pearson_metric  mean_squared_error  \n",
       "0        0.843285            1.665176  \n",
       "1        0.358895            0.909221  \n",
       "2        0.219008            1.143125  "
      ]
     },
     "execution_count": 7,
     "metadata": {},
     "output_type": "execute_result"
    }
   ],
   "source": [
    "df = pd.DataFrame(history.history)\n",
    "df.head(3)"
   ]
  },
  {
   "cell_type": "code",
   "execution_count": 8,
   "metadata": {},
   "outputs": [
    {
     "data": {
      "text/plain": [
       "<AxesSubplot:>"
      ]
     },
     "execution_count": 8,
     "metadata": {},
     "output_type": "execute_result"
    },
    {
     "data": {
      "image/png": "[encoded data removed]",
      "text/plain": [
       "<Figure size 432x288 with 1 Axes>"
      ]
     },
     "metadata": {
      "needs_background": "light"
     },
     "output_type": "display_data"
    }
   ],
   "source": [
    "df.plot()"
   ]
  },
  {
   "cell_type": "markdown",
   "metadata": {},
   "source": [
    "When penalized_pearson is used as loss (as it is used here), it minimizes both direction differences and distance differences.  But it does so at different rates: it minimizes direction differences quickly and distance differences more slowly. This is why, when using the penalized_pearson_loss, the mse_metric converges more slowly. But the important thing is that it (MSE, distance) it actually converges after about 70 epochs."
   ]
  },
  {
   "cell_type": "markdown",
   "metadata": {},
   "source": [
    "To see more about the comparative performance of the penalized_pearson_loss, see pearson_corr_TSFL2_EXTRADOCUMENTATION.ipynb (running the ipynb requires tensorflow 2, but you can see the graphs which show that the penalized_pearson_loss minimizes well while dealing with noisy data.) "
   ]
  },
  {
   "cell_type": "markdown",
   "metadata": {},
   "source": [
    "Even though the penalized_pearson_loss is linear, you can still use it for non linear models. It has the advantage that it is easy to interpret, unlike MSE or a negative value of R-squared."
   ]
  },
  {
   "cell_type": "code",
   "execution_count": null,
   "metadata": {},
   "outputs": [],
   "source": []
  }
 ],
 "metadata": {
  "kernelspec": {
   "display_name": "Python 3",
   "language": "python",
   "name": "python3"
  },
  "language_info": {
   "codemirror_mode": {
    "name": "ipython",
    "version": 3
   },
   "file_extension": ".py",
   "mimetype": "text/x-python",
   "name": "python",
   "nbconvert_exporter": "python",
   "pygments_lexer": "ipython3",
   "version": "3.7.9"
  }
 },
 "nbformat": 4,
 "nbformat_minor": 2
}
